{
 "nbformat": 4,
 "nbformat_minor": 0,
 "metadata": {
  "colab": {
   "provenance": []
  },
  "kernelspec": {
   "name": "python3",
   "display_name": "Python 3"
  },
  "language_info": {
   "name": "python"
  },
  "accelerator": "GPU",
  "gpuClass": "standard"
 },
 "cells": [
  {
   "cell_type": "code",
   "execution_count": 1,
   "metadata": {
    "id": "9tieILLxUGgz"
   },
   "outputs": [],
   "source": [
    "import pandas as pd\n",
    "from sklearn.feature_extraction.text import TfidfVectorizer\n",
    "from sklearn.svm import SVC\n",
    "from sklearn.metrics import classification_report"
   ]
  },
  {
   "cell_type": "code",
   "source": [
    "data = pd.DataFrame(pd.read_csv(\"data/edos_labelled_aggregated.csv\", sep=','))\n",
    "train = data[data['split'] == 'train']\n",
    "dev = data[data['split'] == 'dev']\n",
    "test = data[data['split'] == 'test']\n",
    "train = train.drop(columns=['split'])\n",
    "dev = dev.drop(columns=['split'])\n",
    "test = test.drop(columns=['split'])"
   ],
   "metadata": {
    "id": "rMnnsqxRUJOK"
   },
   "execution_count": 4,
   "outputs": []
  },
  {
   "cell_type": "code",
   "source": [
    "vectorizer = TfidfVectorizer()\n",
    "vec_train_data =  vectorizer.fit_transform(train['text'])\n",
    "vec_train_data = vec_train_data.toarray()\n",
    "vec_test_data = vectorizer.transform(test['text']).toarray()\n",
    "vec_train_data.shape, vec_test_data.shape"
   ],
   "metadata": {
    "id": "8El3pdUIUSqY",
    "colab": {
     "base_uri": "https://localhost:8080/"
    },
    "outputId": "71b49c5d-41df-408a-dd80-f18b4f711e1c"
   },
   "execution_count": 5,
   "outputs": [
    {
     "output_type": "execute_result",
     "data": {
      "text/plain": [
       "((14000, 20964), (4000, 20964))"
      ]
     },
     "metadata": {},
     "execution_count": 5
    }
   ]
  },
  {
   "cell_type": "code",
   "source": [
    "train_data = pd.DataFrame(vec_train_data, columns=vectorizer.get_feature_names())\n",
    "test_data = pd.DataFrame(vec_test_data, columns=vectorizer.get_feature_names())"
   ],
   "metadata": {
    "id": "vn92U264UVyE",
    "colab": {
     "base_uri": "https://localhost:8080/"
    },
    "outputId": "0a8ecb9d-72bc-4adc-ed8d-edec36ede98d"
   },
   "execution_count": 6,
   "outputs": [
    {
     "output_type": "stream",
     "name": "stderr",
     "text": [
      "/usr/local/lib/python3.8/dist-packages/sklearn/utils/deprecation.py:87: FutureWarning: Function get_feature_names is deprecated; get_feature_names is deprecated in 1.0 and will be removed in 1.2. Please use get_feature_names_out instead.\n",
      "  warnings.warn(msg, category=FutureWarning)\n"
     ]
    }
   ]
  },
  {
   "cell_type": "code",
   "source": [
    "train_label_a = train['label_sexist']\n",
    "test_label_a = test['label_sexist']\n",
    "dev_label_a = dev['label_sexist']"
   ],
   "metadata": {
    "id": "jXXs_FhiUXgp"
   },
   "execution_count": 8,
   "outputs": []
  },
  {
   "cell_type": "code",
   "source": [
    "train_label_b = train['label_category']\n",
    "test_label_b = test['label_category']\n",
    "dev_label_b = dev['label_category']"
   ],
   "metadata": {
    "id": "YyPYokg1oA-x"
   },
   "execution_count": 9,
   "outputs": []
  },
  {
   "cell_type": "code",
   "source": [
    "train_label_c = train['label_vector']\n",
    "test_label_c = test['label_vector']\n",
    "dev_label_c = dev['label_vector']"
   ],
   "metadata": {
    "id": "8DhjZARuoGXb"
   },
   "execution_count": 10,
   "outputs": []
  },
  {
   "cell_type": "code",
   "source": [
    "clf = SVC()\n",
    "clf.fit(train_data,train_label_a)"
   ],
   "metadata": {
    "id": "oego88GGUbXy",
    "colab": {
     "base_uri": "https://localhost:8080/"
    },
    "outputId": "20a103f9-a022-466c-95ec-cab1dd8d6c8b"
   },
   "execution_count": 8,
   "outputs": [
    {
     "output_type": "execute_result",
     "data": {
      "text/plain": [
       "SVC()"
      ]
     },
     "metadata": {},
     "execution_count": 8
    }
   ]
  },
  {
   "cell_type": "code",
   "source": [
    "predictions = clf.predict(test_data)\n"
   ],
   "metadata": {
    "id": "eg-nCohSUens"
   },
   "execution_count": 9,
   "outputs": []
  },
  {
   "cell_type": "code",
   "source": [
    "print(classification_report(test_label_a,predictions))"
   ],
   "metadata": {
    "colab": {
     "base_uri": "https://localhost:8080/"
    },
    "id": "6IKPueXmnG0s",
    "outputId": "6936e6f1-b954-4582-e86b-9519b40e39f0"
   },
   "execution_count": 10,
   "outputs": [
    {
     "output_type": "stream",
     "name": "stdout",
     "text": [
      "              precision    recall  f1-score   support\n",
      "\n",
      "  not sexist       0.82      0.99      0.90      3030\n",
      "      sexist       0.90      0.32      0.47       970\n",
      "\n",
      "    accuracy                           0.83      4000\n",
      "   macro avg       0.86      0.66      0.69      4000\n",
      "weighted avg       0.84      0.83      0.79      4000\n",
      "\n"
     ]
    }
   ]
  },
  {
   "cell_type": "code",
   "source": [
    "clfb = SVC()\n",
    "clfb.fit(train_data,train_label_b)"
   ],
   "metadata": {
    "id": "S0ySMS9GnJC_",
    "colab": {
     "base_uri": "https://localhost:8080/"
    },
    "outputId": "3b762ee6-5019-466a-c0b5-70fa18bbada0"
   },
   "execution_count": 11,
   "outputs": [
    {
     "output_type": "execute_result",
     "data": {
      "text/plain": [
       "SVC()"
      ]
     },
     "metadata": {},
     "execution_count": 11
    }
   ]
  },
  {
   "cell_type": "code",
   "source": [
    "pred_labels_b = clfb.predict(test_data)"
   ],
   "metadata": {
    "id": "49wqFKBwohjP"
   },
   "execution_count": 12,
   "outputs": []
  },
  {
   "cell_type": "code",
   "source": [
    "print(classification_report(test_label_b,pred_labels_b))"
   ],
   "metadata": {
    "id": "xlBcpEdKovMy",
    "colab": {
     "base_uri": "https://localhost:8080/"
    },
    "outputId": "2200ceea-e9b1-4613-ddac-f1437bf9cfc8"
   },
   "execution_count": 13,
   "outputs": [
    {
     "output_type": "stream",
     "name": "stdout",
     "text": [
      "                                          precision    recall  f1-score   support\n",
      "\n",
      "1. threats, plans to harm and incitement       1.00      0.01      0.02        89\n",
      "                           2. derogation       0.62      0.15      0.24       454\n",
      "                            3. animosity       0.57      0.14      0.22       333\n",
      "               4. prejudiced discussions       0.00      0.00      0.00        94\n",
      "                                    none       0.79      1.00      0.88      3030\n",
      "\n",
      "                                accuracy                           0.78      4000\n",
      "                               macro avg       0.60      0.26      0.27      4000\n",
      "                            weighted avg       0.74      0.78      0.71      4000\n",
      "\n"
     ]
    },
    {
     "output_type": "stream",
     "name": "stderr",
     "text": [
      "/usr/local/lib/python3.8/dist-packages/sklearn/metrics/_classification.py:1318: UndefinedMetricWarning: Precision and F-score are ill-defined and being set to 0.0 in labels with no predicted samples. Use `zero_division` parameter to control this behavior.\n",
      "  _warn_prf(average, modifier, msg_start, len(result))\n",
      "/usr/local/lib/python3.8/dist-packages/sklearn/metrics/_classification.py:1318: UndefinedMetricWarning: Precision and F-score are ill-defined and being set to 0.0 in labels with no predicted samples. Use `zero_division` parameter to control this behavior.\n",
      "  _warn_prf(average, modifier, msg_start, len(result))\n",
      "/usr/local/lib/python3.8/dist-packages/sklearn/metrics/_classification.py:1318: UndefinedMetricWarning: Precision and F-score are ill-defined and being set to 0.0 in labels with no predicted samples. Use `zero_division` parameter to control this behavior.\n",
      "  _warn_prf(average, modifier, msg_start, len(result))\n"
     ]
    }
   ]
  },
  {
   "cell_type": "code",
   "source": [
    "clfc = SVC()\n",
    "clfc.fit(train_data,train_label_c)"
   ],
   "metadata": {
    "id": "GD-jFXxqoa9c",
    "colab": {
     "base_uri": "https://localhost:8080/"
    },
    "outputId": "da6aee84-18ec-42f9-c136-bbc4422b2b5f"
   },
   "execution_count": 11,
   "outputs": [
    {
     "output_type": "execute_result",
     "data": {
      "text/plain": [
       "SVC()"
      ]
     },
     "metadata": {},
     "execution_count": 11
    }
   ]
  },
  {
   "cell_type": "code",
   "source": [
    "pred_labels_c = clfc.predict(test_data)"
   ],
   "metadata": {
    "id": "197L_dMIonjV"
   },
   "execution_count": 12,
   "outputs": []
  },
  {
   "cell_type": "code",
   "source": [
    "print(classification_report(test_label_c,pred_labels_c))\n"
   ],
   "metadata": {
    "id": "4lWGZE8co0sl",
    "colab": {
     "base_uri": "https://localhost:8080/"
    },
    "outputId": "5f2904ef-c41a-4ac3-92b3-e770f2494a69"
   },
   "execution_count": 13,
   "outputs": [
    {
     "output_type": "stream",
     "name": "stdout",
     "text": [
      "                                                                 precision    recall  f1-score   support\n",
      "\n",
      "                                            1.1 threats of harm       0.00      0.00      0.00        16\n",
      "                       1.2 incitement and encouragement of harm       1.00      0.01      0.03        73\n",
      "                                        2.1 descriptive attacks       0.00      0.00      0.00       205\n",
      "                             2.2 aggressive and emotive attacks       0.64      0.22      0.33       192\n",
      "        2.3 dehumanising attacks & overt sexual objectification       0.00      0.00      0.00        57\n",
      "     3.1 casual use of gendered slurs, profanities, and insults       0.59      0.29      0.39       182\n",
      "        3.2 immutable gender differences and gender stereotypes       0.00      0.00      0.00       119\n",
      "                            3.3 backhanded gendered compliments       0.00      0.00      0.00        18\n",
      "             3.4 condescending explanations or unwelcome advice       0.00      0.00      0.00        14\n",
      "                4.1 supporting mistreatment of individual women       0.00      0.00      0.00        21\n",
      "4.2 supporting systemic discrimination against women as a group       0.00      0.00      0.00        73\n",
      "                                                           none       0.79      1.00      0.88      3030\n",
      "\n",
      "                                                       accuracy                           0.78      4000\n",
      "                                                      macro avg       0.25      0.13      0.14      4000\n",
      "                                                   weighted avg       0.67      0.78      0.70      4000\n",
      "\n"
     ]
    },
    {
     "output_type": "stream",
     "name": "stderr",
     "text": [
      "/usr/local/lib/python3.8/dist-packages/sklearn/metrics/_classification.py:1318: UndefinedMetricWarning: Precision and F-score are ill-defined and being set to 0.0 in labels with no predicted samples. Use `zero_division` parameter to control this behavior.\n",
      "  _warn_prf(average, modifier, msg_start, len(result))\n",
      "/usr/local/lib/python3.8/dist-packages/sklearn/metrics/_classification.py:1318: UndefinedMetricWarning: Precision and F-score are ill-defined and being set to 0.0 in labels with no predicted samples. Use `zero_division` parameter to control this behavior.\n",
      "  _warn_prf(average, modifier, msg_start, len(result))\n",
      "/usr/local/lib/python3.8/dist-packages/sklearn/metrics/_classification.py:1318: UndefinedMetricWarning: Precision and F-score are ill-defined and being set to 0.0 in labels with no predicted samples. Use `zero_division` parameter to control this behavior.\n",
      "  _warn_prf(average, modifier, msg_start, len(result))\n"
     ]
    }
   ]
  }
 ]
}
