{
 "cells": [
  {
   "cell_type": "code",
   "execution_count": 1,
   "metadata": {
    "collapsed": true
   },
   "outputs": [],
   "source": [
    "import pandas as pd\n",
    "from collections import Counter"
   ]
  },
  {
   "cell_type": "code",
   "execution_count": 77,
   "outputs": [
    {
     "data": {
      "text/plain": "   Unnamed: 0                 rewire_id  \\\n0           1  sexism2022_english-16993   \n1           2  sexism2022_english-13149   \n2           3  sexism2022_english-13021   \n3           5  sexism2022_english-14998   \n4           6   sexism2022_english-7228   \n\n                                                text label_sexist  \\\n0                            Then, she's a keeper. 😉   not sexist   \n1  This is like the Metallica video where the poo...   not sexist   \n2                                             woman?   not sexist   \n3  Unlicensed day care worker reportedly tells co...   not sexist   \n4  [USER] Leg day is easy. Hot girls who wear min...       sexist   \n\n  label_category                         label_vector  \n0           none                                 none  \n1           none                                 none  \n2           none                                 none  \n3           none                                 none  \n4   3. animosity  3.3 backhanded gendered compliments  ",
      "text/html": "<div>\n<style scoped>\n    .dataframe tbody tr th:only-of-type {\n        vertical-align: middle;\n    }\n\n    .dataframe tbody tr th {\n        vertical-align: top;\n    }\n\n    .dataframe thead th {\n        text-align: right;\n    }\n</style>\n<table border=\"1\" class=\"dataframe\">\n  <thead>\n    <tr style=\"text-align: right;\">\n      <th></th>\n      <th>Unnamed: 0</th>\n      <th>rewire_id</th>\n      <th>text</th>\n      <th>label_sexist</th>\n      <th>label_category</th>\n      <th>label_vector</th>\n    </tr>\n  </thead>\n  <tbody>\n    <tr>\n      <th>0</th>\n      <td>1</td>\n      <td>sexism2022_english-16993</td>\n      <td>Then, she's a keeper. 😉</td>\n      <td>not sexist</td>\n      <td>none</td>\n      <td>none</td>\n    </tr>\n    <tr>\n      <th>1</th>\n      <td>2</td>\n      <td>sexism2022_english-13149</td>\n      <td>This is like the Metallica video where the poo...</td>\n      <td>not sexist</td>\n      <td>none</td>\n      <td>none</td>\n    </tr>\n    <tr>\n      <th>2</th>\n      <td>3</td>\n      <td>sexism2022_english-13021</td>\n      <td>woman?</td>\n      <td>not sexist</td>\n      <td>none</td>\n      <td>none</td>\n    </tr>\n    <tr>\n      <th>3</th>\n      <td>5</td>\n      <td>sexism2022_english-14998</td>\n      <td>Unlicensed day care worker reportedly tells co...</td>\n      <td>not sexist</td>\n      <td>none</td>\n      <td>none</td>\n    </tr>\n    <tr>\n      <th>4</th>\n      <td>6</td>\n      <td>sexism2022_english-7228</td>\n      <td>[USER] Leg day is easy. Hot girls who wear min...</td>\n      <td>sexist</td>\n      <td>3. animosity</td>\n      <td>3.3 backhanded gendered compliments</td>\n    </tr>\n  </tbody>\n</table>\n</div>"
     },
     "execution_count": 77,
     "metadata": {},
     "output_type": "execute_result"
    }
   ],
   "source": [
    "df =pd.DataFrame(pd.read_csv(\"../data/edos/train.csv\", sep=','))\n",
    "df.head()"
   ],
   "metadata": {
    "collapsed": false
   }
  },
  {
   "cell_type": "code",
   "execution_count": 78,
   "outputs": [],
   "source": [
    "df.loc[df[\"label_sexist\"] == \"not sexist\", \"label_sexist\"] = 0\n",
    "df.loc[df[\"label_sexist\"] == \"sexist\", \"label_sexist\"] = 1"
   ],
   "metadata": {
    "collapsed": false
   }
  },
  {
   "cell_type": "code",
   "execution_count": 42,
   "outputs": [],
   "source": [
    "import re"
   ],
   "metadata": {
    "collapsed": false
   }
  },
  {
   "cell_type": "code",
   "execution_count": 79,
   "outputs": [
    {
     "data": {
      "text/plain": "[3, 2, 4, 1]"
     },
     "execution_count": 79,
     "metadata": {},
     "output_type": "execute_result"
    }
   ],
   "source": [
    "\n",
    "categories = df.label_category.unique()\n",
    "cats = []\n",
    "for j in range(1,len(categories)):\n",
    "    ints = re.findall(r'\\d+', categories[j])\n",
    "    cats.append(eval(ints[0]))\n",
    "cats"
   ],
   "metadata": {
    "collapsed": false
   }
  },
  {
   "cell_type": "code",
   "execution_count": 44,
   "outputs": [
    {
     "data": {
      "text/plain": "[2, 1, 3, 4]"
     },
     "execution_count": 44,
     "metadata": {},
     "output_type": "execute_result"
    }
   ],
   "source": [
    "cats"
   ],
   "metadata": {
    "collapsed": false
   }
  },
  {
   "cell_type": "code",
   "execution_count": 45,
   "outputs": [
    {
     "data": {
      "text/plain": "array(['none', '2. derogation',\n       '1. threats, plans to harm and incitement', '3. animosity',\n       '4. prejudiced discussions'], dtype=object)"
     },
     "execution_count": 45,
     "metadata": {},
     "output_type": "execute_result"
    }
   ],
   "source": [
    "categories"
   ],
   "metadata": {
    "collapsed": false
   }
  },
  {
   "cell_type": "code",
   "execution_count": 80,
   "outputs": [
    {
     "data": {
      "text/plain": "   Unnamed: 0                 rewire_id  \\\n0           1  sexism2022_english-16993   \n1           2  sexism2022_english-13149   \n2           3  sexism2022_english-13021   \n3           5  sexism2022_english-14998   \n4           6   sexism2022_english-7228   \n\n                                                text label_sexist  \\\n0                            Then, she's a keeper. 😉            0   \n1  This is like the Metallica video where the poo...            0   \n2                                             woman?            0   \n3  Unlicensed day care worker reportedly tells co...            0   \n4  [USER] Leg day is easy. Hot girls who wear min...            1   \n\n  label_category                         label_vector  \n0              0                                 none  \n1              0                                 none  \n2              0                                 none  \n3              0                                 none  \n4              3  3.3 backhanded gendered compliments  ",
      "text/html": "<div>\n<style scoped>\n    .dataframe tbody tr th:only-of-type {\n        vertical-align: middle;\n    }\n\n    .dataframe tbody tr th {\n        vertical-align: top;\n    }\n\n    .dataframe thead th {\n        text-align: right;\n    }\n</style>\n<table border=\"1\" class=\"dataframe\">\n  <thead>\n    <tr style=\"text-align: right;\">\n      <th></th>\n      <th>Unnamed: 0</th>\n      <th>rewire_id</th>\n      <th>text</th>\n      <th>label_sexist</th>\n      <th>label_category</th>\n      <th>label_vector</th>\n    </tr>\n  </thead>\n  <tbody>\n    <tr>\n      <th>0</th>\n      <td>1</td>\n      <td>sexism2022_english-16993</td>\n      <td>Then, she's a keeper. 😉</td>\n      <td>0</td>\n      <td>0</td>\n      <td>none</td>\n    </tr>\n    <tr>\n      <th>1</th>\n      <td>2</td>\n      <td>sexism2022_english-13149</td>\n      <td>This is like the Metallica video where the poo...</td>\n      <td>0</td>\n      <td>0</td>\n      <td>none</td>\n    </tr>\n    <tr>\n      <th>2</th>\n      <td>3</td>\n      <td>sexism2022_english-13021</td>\n      <td>woman?</td>\n      <td>0</td>\n      <td>0</td>\n      <td>none</td>\n    </tr>\n    <tr>\n      <th>3</th>\n      <td>5</td>\n      <td>sexism2022_english-14998</td>\n      <td>Unlicensed day care worker reportedly tells co...</td>\n      <td>0</td>\n      <td>0</td>\n      <td>none</td>\n    </tr>\n    <tr>\n      <th>4</th>\n      <td>6</td>\n      <td>sexism2022_english-7228</td>\n      <td>[USER] Leg day is easy. Hot girls who wear min...</td>\n      <td>1</td>\n      <td>3</td>\n      <td>3.3 backhanded gendered compliments</td>\n    </tr>\n  </tbody>\n</table>\n</div>"
     },
     "execution_count": 80,
     "metadata": {},
     "output_type": "execute_result"
    }
   ],
   "source": [
    "df.loc[df[\"label_category\"] == \"none\", \"label_category\"] = 0\n",
    "for i in range(1,len(categories)):\n",
    "    df.loc[df[\"label_category\"] == categories[i], \"label_category\"] = cats[i-1]\n",
    "df.head()"
   ],
   "metadata": {
    "collapsed": false
   }
  },
  {
   "cell_type": "code",
   "execution_count": 81,
   "outputs": [
    {
     "data": {
      "text/plain": "[3, 3, 2, 2, 1, 2, 1, 1, 2, 1, 4]"
     },
     "execution_count": 81,
     "metadata": {},
     "output_type": "execute_result"
    }
   ],
   "source": [
    "vectors = df.label_vector.unique()\n",
    "vecs = []\n",
    "for h in range(1,len(vectors)):\n",
    "    ints = re.findall(r'\\d+', vectors[h])\n",
    "    vecs.append(eval(ints[1]))\n",
    "vecs"
   ],
   "metadata": {
    "collapsed": false
   }
  },
  {
   "cell_type": "code",
   "execution_count": 82,
   "outputs": [],
   "source": [
    "df.loc[df[\"label_vector\"] == \"none\", \"label_vector\"] = 0\n",
    "for l in range(0,len(vectors)):\n",
    "    df.loc[df[\"label_vector\"] == vectors[l], \"label_vector\"] = vecs[l-1]"
   ],
   "metadata": {
    "collapsed": false
   }
  },
  {
   "cell_type": "code",
   "execution_count": 83,
   "outputs": [
    {
     "data": {
      "text/plain": "   Unnamed: 0                 rewire_id  \\\n0           1  sexism2022_english-16993   \n1           2  sexism2022_english-13149   \n2           3  sexism2022_english-13021   \n3           5  sexism2022_english-14998   \n4           6   sexism2022_english-7228   \n\n                                                text label_sexist  \\\n0                            Then, she's a keeper. 😉            0   \n1  This is like the Metallica video where the poo...            0   \n2                                             woman?            0   \n3  Unlicensed day care worker reportedly tells co...            0   \n4  [USER] Leg day is easy. Hot girls who wear min...            1   \n\n  label_category label_vector  \n0              0            0  \n1              0            0  \n2              0            0  \n3              0            0  \n4              3            3  ",
      "text/html": "<div>\n<style scoped>\n    .dataframe tbody tr th:only-of-type {\n        vertical-align: middle;\n    }\n\n    .dataframe tbody tr th {\n        vertical-align: top;\n    }\n\n    .dataframe thead th {\n        text-align: right;\n    }\n</style>\n<table border=\"1\" class=\"dataframe\">\n  <thead>\n    <tr style=\"text-align: right;\">\n      <th></th>\n      <th>Unnamed: 0</th>\n      <th>rewire_id</th>\n      <th>text</th>\n      <th>label_sexist</th>\n      <th>label_category</th>\n      <th>label_vector</th>\n    </tr>\n  </thead>\n  <tbody>\n    <tr>\n      <th>0</th>\n      <td>1</td>\n      <td>sexism2022_english-16993</td>\n      <td>Then, she's a keeper. 😉</td>\n      <td>0</td>\n      <td>0</td>\n      <td>0</td>\n    </tr>\n    <tr>\n      <th>1</th>\n      <td>2</td>\n      <td>sexism2022_english-13149</td>\n      <td>This is like the Metallica video where the poo...</td>\n      <td>0</td>\n      <td>0</td>\n      <td>0</td>\n    </tr>\n    <tr>\n      <th>2</th>\n      <td>3</td>\n      <td>sexism2022_english-13021</td>\n      <td>woman?</td>\n      <td>0</td>\n      <td>0</td>\n      <td>0</td>\n    </tr>\n    <tr>\n      <th>3</th>\n      <td>5</td>\n      <td>sexism2022_english-14998</td>\n      <td>Unlicensed day care worker reportedly tells co...</td>\n      <td>0</td>\n      <td>0</td>\n      <td>0</td>\n    </tr>\n    <tr>\n      <th>4</th>\n      <td>6</td>\n      <td>sexism2022_english-7228</td>\n      <td>[USER] Leg day is easy. Hot girls who wear min...</td>\n      <td>1</td>\n      <td>3</td>\n      <td>3</td>\n    </tr>\n  </tbody>\n</table>\n</div>"
     },
     "execution_count": 83,
     "metadata": {},
     "output_type": "execute_result"
    }
   ],
   "source": [
    "df.head()\n"
   ],
   "metadata": {
    "collapsed": false
   }
  },
  {
   "cell_type": "code",
   "execution_count": 84,
   "outputs": [],
   "source": [
    "df.to_csv(\"data/train_int_change_label.csv\")"
   ],
   "metadata": {
    "collapsed": false
   }
  },
  {
   "cell_type": "code",
   "execution_count": 67,
   "outputs": [
    {
     "data": {
      "text/plain": "{'0.0': 1514,\n '2.1': 102,\n '2.2': 96,\n '1.2': 36,\n '3.2': 60,\n '4.1': 11,\n '4.2': 37,\n '3.1': 91,\n '3.4': 7,\n '2.3': 29,\n '3.3': 9,\n '1.1': 8}"
     },
     "execution_count": 67,
     "metadata": {},
     "output_type": "execute_result"
    }
   ],
   "source": [
    "task_c = {}\n",
    "categories = df.label_category.unique()\n",
    "vectors = df.label_vector.unique()\n",
    "for k in range(df.shape[0]):\n",
    "    for m in range(len(categories)):\n",
    "        cm = categories[m]\n",
    "        if df.label_category[k] == cm:\n",
    "            for n in range(len(vectors)):\n",
    "                vn = vectors[n]\n",
    "                if df.label_vector[k] == vn:\n",
    "                    strs = str(cm) + '.' + str(vn)\n",
    "                    if strs in task_c:\n",
    "                        task_c[strs] += 1\n",
    "                    else: task_c[strs] = 1\n",
    "task_c"
   ],
   "metadata": {
    "collapsed": false
   }
  },
  {
   "cell_type": "code",
   "execution_count": null,
   "outputs": [],
   "source": [],
   "metadata": {
    "collapsed": false
   }
  },
  {
   "cell_type": "code",
   "execution_count": null,
   "outputs": [],
   "source": [
    "sexist_count = df.label_sexist.sum()\n",
    "non_sexist_count = len(df) - sexist_count\n",
    "print(f\"The dataset includes {sexist_count} sexist texts and {non_sexist_count} non sexists texts, with a total of {len(df)}\")\n",
    "print(f\"We therefore have {sexist_count/len(df)*100}% sexists text and {non_sexist_count/len(df)*100}\")"
   ],
   "metadata": {
    "collapsed": false
   }
  },
  {
   "cell_type": "code",
   "execution_count": null,
   "outputs": [],
   "source": [
    "df.head()"
   ],
   "metadata": {
    "collapsed": false
   }
  },
  {
   "cell_type": "code",
   "execution_count": null,
   "outputs": [],
   "source": [
    "df.to_csv(\"data/dev_int_label.csv\")"
   ],
   "metadata": {
    "collapsed": false
   }
  },
  {
   "cell_type": "code",
   "execution_count": null,
   "outputs": [],
   "source": [
    "def commonWords(arr, no_words):\n",
    "    split_it = '\\n'.join(arr).split()\n",
    "    counter = Counter(split_it)\n",
    "    most_occur = counter.most_common(no_words)\n",
    "    print(f'In total there is {len(split_it)} words in the array')\n",
    "    print(most_occur)\n",
    "\n",
    "\n",
    "def bigramCounts(text, no_words):\n",
    "    bigrams = [b for l in text for b in zip(l.split(\" \")[:-1], l.split(\" \")[1:])]\n",
    "    print(f'In total there is {len(bigrams)} bigrams in the array')\n",
    "    print(Counter(bigrams).most_common(no_words))\n",
    "\n",
    "from wordcloud import WordCloud, STOPWORDS\n",
    "import matplotlib.pyplot as plt\n",
    "\n",
    "def wordCloud(array_of_string):\n",
    "    all_words = ' '.join(map(str, array_of_string))\n",
    "\n",
    "    stopwords = set(STOPWORDS)\n",
    "    wordcloud = WordCloud(width=800, height=800,\n",
    "                          background_color='white',\n",
    "                          stopwords=stopwords,\n",
    "                          min_font_size=10).generate(all_words)\n",
    "\n",
    "    # plot the WordCloud image\n",
    "    plt.figure(figsize=(8, 8), facecolor=None)\n",
    "    plt.imshow(wordcloud)\n",
    "    plt.axis(\"off\")\n",
    "    plt.tight_layout(pad=0)\n",
    "\n",
    "    plt.show()\n"
   ],
   "metadata": {
    "collapsed": false
   }
  },
  {
   "cell_type": "code",
   "execution_count": null,
   "outputs": [],
   "source": [
    "wordCloud(df.text)\n"
   ],
   "metadata": {
    "collapsed": false
   }
  },
  {
   "cell_type": "code",
   "execution_count": null,
   "outputs": [],
   "source": [],
   "metadata": {
    "collapsed": false
   }
  }
 ],
 "metadata": {
  "kernelspec": {
   "display_name": "Python 3",
   "language": "python",
   "name": "python3"
  },
  "language_info": {
   "codemirror_mode": {
    "name": "ipython",
    "version": 2
   },
   "file_extension": ".py",
   "mimetype": "text/x-python",
   "name": "python",
   "nbconvert_exporter": "python",
   "pygments_lexer": "ipython2",
   "version": "2.7.6"
  }
 },
 "nbformat": 4,
 "nbformat_minor": 0
}
