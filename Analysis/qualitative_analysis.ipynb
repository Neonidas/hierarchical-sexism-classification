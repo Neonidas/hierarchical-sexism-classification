{
 "cells": [
  {
   "cell_type": "code",
   "execution_count": 193,
   "metadata": {
    "collapsed": true
   },
   "outputs": [],
   "source": [
    "import pandas as pd\n",
    "import numpy as np\n",
    "from utils import myutils, myutils_analysis\n",
    "from sklearn.metrics import classification_report"
   ]
  },
  {
   "cell_type": "markdown",
   "source": [
    "## Qualitative analysis\n",
    "In this notebook, we attempt to qualitatively analyse the baseline and hierarchical model performances,\n",
    "and observe what the two models perform better and worse at.\n",
    "The actual findings and text examples extracted can be found in the paper.\n",
    "### Setup\n",
    "We load in texts and labels of the test subset of the dataset, and the predictions of the transformer baseline and our hierarchical approach"
   ],
   "metadata": {
    "collapsed": false
   }
  },
  {
   "cell_type": "code",
   "execution_count": 223,
   "outputs": [],
   "source": [
    "text, labels = myutils.read_data('../data/test_int_label.csv', 'text', 'c')\n",
    "hier_predictions = pd.read_csv('../label_preds/label_pred_singleMLM.csv.csv')\n",
    "hier_predictions = hier_predictions.prediction\n",
    "baseline_predictions = pd.read_csv('../label_preds/label_pred_baseline.csv')\n",
    "baseline_predictions = baseline_predictions.prediction"
   ],
   "metadata": {
    "collapsed": false
   }
  },
  {
   "cell_type": "markdown",
   "source": [
    "### We look at the distribution of labels and predicted labels of the hierarchical model\n",
    "While the distribution seems similar, the predictions are not entirely correct."
   ],
   "metadata": {
    "collapsed": false
   }
  },
  {
   "cell_type": "code",
   "execution_count": 28,
   "outputs": [
    {
     "name": "stdout",
     "output_type": "stream",
     "text": [
      "[3030, 16, 73, 205, 192, 57, 182, 119, 18, 14, 21, 73]\n",
      "[2918, 25, 82, 202, 196, 63, 192, 184, 36, 17, 27, 58]\n"
     ]
    }
   ],
   "source": [
    "print([len(labels[labels == i]) for i in range(12)])\n",
    "print([len(hier_predictions[hier_predictions == i]) for i in range(12)])"
   ],
   "metadata": {
    "collapsed": false
   }
  },
  {
   "cell_type": "markdown",
   "source": [
    "## Analysis of the hierarchical model\n",
    "In the following sections, we will dive into how the hierarchical model performed and take a closer look at the texts therein.\n",
    "The actual analyses and examples can be found in the paper.\n",
    "\n",
    "### Descriptive attacks (2.1)\n",
    "We will take a deeper look at the most appearing non-sexist label; the 3rd fine-grained category(not counting non-sexist),\n",
    "which is \"descriptive attacks\" 2.1."
   ],
   "metadata": {
    "collapsed": false
   }
  },
  {
   "cell_type": "code",
   "execution_count": 107,
   "outputs": [
    {
     "name": "stdout",
     "output_type": "stream",
     "text": [
      "Label 3 correctly predicted: 81\n",
      "Label 3 wrongly predicted: 121\n",
      "Label 3 detected sexism but mislabelled: 69\n",
      "Percentage of detected sexism but mislabelled: 0.5702479338842975\n",
      "Wrongly detected as sexist: 52\n",
      "How many were mislabelled of each category: [0, 0, 0, 0, 14, 9, 2, 26, 2, 2, 2, 12]\n"
     ]
    },
    {
     "data": {
      "text/plain": "44      Yes, it is new. What remains constant is that ...\n319     Jesus if looks could kill: she could kill my c...\n386                Don't pay attention to what women say.\n1114    TFM? Anti male agenda is very much at large. M...\n1377    Wives and girlfriends cheating is violence aga...\n1522    It's TRUE. Never let a woman rule over you. I ...\n1724    Just like they did to Stormy. People now see t...\n1762    Average man works 8 hours more thats a full da...\n1770    wymyn shouldn't be allowed to vote, let alone ...\n2717    It's sad. A few years ago, it was all positive...\n3014    Most women are Leftists. and all left paradigm...\n3300    She got trolled so hard, women shuoldn't be al...\nName: text, dtype: object"
     },
     "execution_count": 107,
     "metadata": {},
     "output_type": "execute_result"
    }
   ],
   "source": [
    "label_3_correct = text[hier_predictions==3][labels==3]\n",
    "label_3_wrong = text[hier_predictions==3][labels!=3]\n",
    "label_3_wrong_but_sexist = text[hier_predictions==3][labels!=3][labels!=0]\n",
    "print(f'Label 3 correctly predicted: {len(label_3_correct)}')\n",
    "print(f'Label 3 wrongly predicted: {len(label_3_wrong)}')\n",
    "print(f'Label 3 detected sexism but mislabelled: {len(label_3_wrong_but_sexist)}')\n",
    "print(f'Wrongly detected as sexist: {len(label_3_wrong)-len(label_3_wrong_but_sexist)}')\n",
    "print(f'Percentage of detected sexism but mislabelled: {len(label_3_wrong_but_sexist)/len(label_3_wrong)}')\n",
    "label_3_wrong_but_sexist_golds = labels[hier_predictions==3][labels!=3][labels!=0]\n",
    "print(f'How many were mislabelled as each category: {[len(label_3_wrong_but_sexist_golds[label_3_wrong_but_sexist_golds == i]) for i in range(12)]}')\n",
    "label_3_wrong"
   ],
   "metadata": {
    "collapsed": false
   }
  },
  {
   "cell_type": "markdown",
   "source": [
    "### Aggressive and emotive attacks (2.2)\n",
    "We take a deeper look at the second-most appearing non-sexist label; the 4th fine-grained category(not counting non-sexist),\n",
    "\"Aggressive and emotive attacks\" 2.2."
   ],
   "metadata": {
    "collapsed": false
   }
  },
  {
   "cell_type": "code",
   "execution_count": 82,
   "outputs": [
    {
     "name": "stdout",
     "output_type": "stream",
     "text": [
      "Label 4 correctly predicted: 94\n",
      "Label 4 wrongly predicted: 102\n",
      "Label 4 detected sexism but mislabelled: 76\n",
      "Percentage of detected sexism but mislabelled: 0.7450980392156863\n",
      "Wrongly detected as sexist: 26\n",
      "How many were mislabelled of each category: [0, 2, 12, 12, 0, 2, 45, 0, 0, 0, 1, 2]\n"
     ]
    },
    {
     "data": {
      "text/plain": "131     A false dichotomy. Apparently we believe that ...\n519     Never LTR club girls. Fucking stupid. I dont e...\n525     See how her first reaction is to try to hurt h...\n582     HITLERY is the evilest woman on the planet. pe...\n632     This sounds like it was written by a feminist ...\n970     One, she is 15, uglier than me, femlet, fat, a...\n1152    I really hate when females want to turn into m...\n1187    Are they trying to poop on the floor? Nasty as...\n1350      We don't hate women... we hate *you* fuckstick.\n1881    To minimize the percentage of deleterious muta...\n2290    Do we really care what this witch thinks? WHY ...\n2494    I don't care if women wear makeup. It's worthl...\n2751    I don't care if she's Trump's daughter.., she'...\n2763    I am not an expert on trannies, but they are l...\n2800    [USER] also, I have never and would never call...\n2897    Like the \"stunning and brave\" woman that \"\"\"st...\n2950                                   Damn ugly she-ape!\n3044                                    disgusting woman.\n3070    I genuinely hate my mother. Like, I love her b...\n3077    Great observations on the hatred directed at h...\n3563    Banging a white girl like her [she's a felon.....\n3588    Freakish lesbian, Ellen Degenerate, has been b...\n3600    I dont hate women. I dont love them either. I ...\n3636                              I hate women sometimes.\n3728    Liberal OUTRAGEOUS LIES are going to bring Ame...\n3968    So leading women on, and using them for materi...\nName: text, dtype: object"
     },
     "execution_count": 82,
     "metadata": {},
     "output_type": "execute_result"
    }
   ],
   "source": [
    "label_4_correct = text[hier_predictions==4][labels==4]\n",
    "label_4_wrong = text[hier_predictions==4][labels!=4]\n",
    "label_4_wrong_but_sexist = text[hier_predictions==4][labels!=4][labels!=0]\n",
    "label_4_wrong_and_not_sexist = text[labels==0][hier_predictions==4]\n",
    "print(f'Label 4 correctly predicted: {len(label_4_correct)}')\n",
    "print(f'Label 4 wrongly predicted: {len(label_4_wrong)}')\n",
    "print(f'Label 4 detected sexism but mislabelled: {len(label_4_wrong_but_sexist)}')\n",
    "print(f'Wrongly detected as sexist: {len(label_4_wrong)-len(label_4_wrong_but_sexist)}')\n",
    "print(f'Percentage of detected sexism but mislabelled: {len(label_4_wrong_but_sexist)/len(label_4_wrong)}')\n",
    "label_4_wrong_but_sexist_golds = labels[hier_predictions==4][labels!=4][labels!=0]\n",
    "print(f'How many were mislabelled as each category: {[len(label_4_wrong_but_sexist_golds[label_4_wrong_but_sexist_golds == i]) for i in range(12)]}')\n",
    "\n",
    "label_4_wrong_and_not_sexist"
   ],
   "metadata": {
    "collapsed": false
   }
  },
  {
   "cell_type": "markdown",
   "source": [],
   "metadata": {
    "collapsed": false
   }
  },
  {
   "cell_type": "markdown",
   "source": [
    "## Hierarchical vs baseline\n",
    "We compare and analyze the texts which the hierarchical model has predicted correctly where the baseline predicted wrongly, and vice versa.\n",
    "\n",
    "We start by diving into the labels which the baseline most frequently got right and the hierarchical model got wrong."
   ],
   "metadata": {
    "collapsed": false
   }
  },
  {
   "cell_type": "code",
   "execution_count": 230,
   "outputs": [
    {
     "name": "stdout",
     "output_type": "stream",
     "text": [
      "Number of times hierarchical labeled a text correctly and baseline labeled it wrong:\n",
      "(first index represents label 1.1 and last represents 4.2)\n",
      "[1, 2, 17, 28, 4, 6, 8, 1, 0, 1, 6]\n",
      "Sum: 74\n",
      "Number of times baseline labeled a text correctly and hierarchical labeled it wrong:\n",
      "(first index represents label 1.1 and last represents 4.2)\n",
      "[1, 10, 41, 21, 15, 27, 22, 1, 0, 3, 3]\n",
      "Sum: 144\n"
     ]
    }
   ],
   "source": [
    "hierarch_hit_baseline_miss = [text[hier_predictions==i][baseline_predictions!=i][labels==i] for i in range(1,12)]\n",
    "hierarch_miss_baseline_hit = [text[baseline_predictions==i][hier_predictions!=i][labels==i] for i in range(1,12)]\n",
    "print('Number of times hierarchical labeled a text correctly and baseline labeled it wrong:')\n",
    "print('(first index represents label 1.1 and last represents 4.2)')\n",
    "print([len(hierarch_hit_baseline_miss[i]) for i in range(11)])\n",
    "print(f'Sum: {sum([len(hierarch_hit_baseline_miss[i]) for i in range(11)])}')\n",
    "print('Number of times baseline labeled a text correctly and hierarchical labeled it wrong:')\n",
    "print('(first index represents label 1.1 and last represents 4.2)')\n",
    "print([len(hierarch_miss_baseline_hit[i]) for i in range(11)])\n",
    "print(f'Sum: {sum([len(hierarch_miss_baseline_hit[i]) for i in range(11)])}')"
   ],
   "metadata": {
    "collapsed": false
   }
  },
  {
   "cell_type": "markdown",
   "source": [
    "### Confusions of the hierarchical model - 2.2\n",
    "We observed in the previous code cell that the hierarchical model most frequently confuses label 2.2 where baseline gets it right.\n",
    "We take a closer look at those texts:"
   ],
   "metadata": {
    "collapsed": false
   }
  },
  {
   "cell_type": "code",
   "execution_count": 246,
   "outputs": [
    {
     "name": "stdout",
     "output_type": "stream",
     "text": [
      "Label and number of times 2.1 was confused as the label:\n",
      "7     16\n",
      "0     15\n",
      "4      3\n",
      "5      2\n",
      "8      2\n",
      "10     2\n",
      "11     1\n",
      "Name: prediction, dtype: int64\n"
     ]
    },
    {
     "data": {
      "text/plain": "                                                   text  prediction\n110   Fuck sorry to hear that bro, don't think about...           7\n170   I hope there will be a time women take cobras'...           0\n233   My girlfriend is mentally retarded. Or if you ...           4\n289   And the vast majority of those disdainful indi...           0\n470   So you run back to daddy whenever you need hel...           7\n478   The West treats women like small children, i h...           0\n484   It's the advanced version of the \"let's take a...           7\n545   No way she's a feminist. She's repairing a veh...           0\n605   Another explanation is these women are herding...           7\n724   Well said. Single mothers would not get this p...           7\n860   *Got out of a 5 year relationship with a stubb...           4\n971   pick a woman who is unlikely to screw them ove...           0\n987   If only my ex was a nice woman like her and ju...           5\n1378  What risks? Pregnancy fixed with birth control...           4\n1462  Dude, it took me 10 minutes to figure out thes...           7\n1561  It's part of the reason I can't watch the late...           8\n1613  \"You could have joined in\" who cares women are...           7\n1667  And yet women love cheating with these toxic m...           7\n1736  Like a typical woman, always waiting for the m...           7\n1904  All Black women are fat and stupid! But then a...           0\n1995  U must have quite the gift of gab to do p4p wi...           0\n2046  from chapter 3: \"My answer to these men is alw...           0\n2499  uhh basically everything, any woman who joins ...           0\n2564          It's always about me me me me with women.           7\n2580  Imagine having to work with a woman along with...          11\n2607  Never cross a Russian women, they make crazy A...           0\n2656  Forgot about the part where it says \"gives wom...           0\n2773  Women (when they're referred to as women): I'm...           0\n2797  It doesn't matter what you look like anymore. ...           7\n2826  Those who are trying to make it big in busines...          10\n2871  And women still rob men without \"touching\" the...          10\n2894  Crazy young mothers want attention for themsel...           7\n2943  so they couldn't be bothered to put in the eff...           0\n3205  Women have wielded the power of their pussy fr...           7\n3219  Wow, cheating is so easy and natural for women...           7\n3220  now women have dating apps to cuck their bf. B...           7\n3222  Chads had their fun and fucking destroyed her ...           5\n3807  Yep. A beta no-bucks cuck. Like who cares what...           0\n3857  Yes, absolutely. I had two jewish girlfriends,...           7\n3859  Women in the military is a joke. Almost any ma...           8\n3876  I suspect an ugly woman is the prosecuter. Ugl...           0",
      "text/html": "<div>\n<style scoped>\n    .dataframe tbody tr th:only-of-type {\n        vertical-align: middle;\n    }\n\n    .dataframe tbody tr th {\n        vertical-align: top;\n    }\n\n    .dataframe thead th {\n        text-align: right;\n    }\n</style>\n<table border=\"1\" class=\"dataframe\">\n  <thead>\n    <tr style=\"text-align: right;\">\n      <th></th>\n      <th>text</th>\n      <th>prediction</th>\n    </tr>\n  </thead>\n  <tbody>\n    <tr>\n      <th>110</th>\n      <td>Fuck sorry to hear that bro, don't think about...</td>\n      <td>7</td>\n    </tr>\n    <tr>\n      <th>170</th>\n      <td>I hope there will be a time women take cobras'...</td>\n      <td>0</td>\n    </tr>\n    <tr>\n      <th>233</th>\n      <td>My girlfriend is mentally retarded. Or if you ...</td>\n      <td>4</td>\n    </tr>\n    <tr>\n      <th>289</th>\n      <td>And the vast majority of those disdainful indi...</td>\n      <td>0</td>\n    </tr>\n    <tr>\n      <th>470</th>\n      <td>So you run back to daddy whenever you need hel...</td>\n      <td>7</td>\n    </tr>\n    <tr>\n      <th>478</th>\n      <td>The West treats women like small children, i h...</td>\n      <td>0</td>\n    </tr>\n    <tr>\n      <th>484</th>\n      <td>It's the advanced version of the \"let's take a...</td>\n      <td>7</td>\n    </tr>\n    <tr>\n      <th>545</th>\n      <td>No way she's a feminist. She's repairing a veh...</td>\n      <td>0</td>\n    </tr>\n    <tr>\n      <th>605</th>\n      <td>Another explanation is these women are herding...</td>\n      <td>7</td>\n    </tr>\n    <tr>\n      <th>724</th>\n      <td>Well said. Single mothers would not get this p...</td>\n      <td>7</td>\n    </tr>\n    <tr>\n      <th>860</th>\n      <td>*Got out of a 5 year relationship with a stubb...</td>\n      <td>4</td>\n    </tr>\n    <tr>\n      <th>971</th>\n      <td>pick a woman who is unlikely to screw them ove...</td>\n      <td>0</td>\n    </tr>\n    <tr>\n      <th>987</th>\n      <td>If only my ex was a nice woman like her and ju...</td>\n      <td>5</td>\n    </tr>\n    <tr>\n      <th>1378</th>\n      <td>What risks? Pregnancy fixed with birth control...</td>\n      <td>4</td>\n    </tr>\n    <tr>\n      <th>1462</th>\n      <td>Dude, it took me 10 minutes to figure out thes...</td>\n      <td>7</td>\n    </tr>\n    <tr>\n      <th>1561</th>\n      <td>It's part of the reason I can't watch the late...</td>\n      <td>8</td>\n    </tr>\n    <tr>\n      <th>1613</th>\n      <td>\"You could have joined in\" who cares women are...</td>\n      <td>7</td>\n    </tr>\n    <tr>\n      <th>1667</th>\n      <td>And yet women love cheating with these toxic m...</td>\n      <td>7</td>\n    </tr>\n    <tr>\n      <th>1736</th>\n      <td>Like a typical woman, always waiting for the m...</td>\n      <td>7</td>\n    </tr>\n    <tr>\n      <th>1904</th>\n      <td>All Black women are fat and stupid! But then a...</td>\n      <td>0</td>\n    </tr>\n    <tr>\n      <th>1995</th>\n      <td>U must have quite the gift of gab to do p4p wi...</td>\n      <td>0</td>\n    </tr>\n    <tr>\n      <th>2046</th>\n      <td>from chapter 3: \"My answer to these men is alw...</td>\n      <td>0</td>\n    </tr>\n    <tr>\n      <th>2499</th>\n      <td>uhh basically everything, any woman who joins ...</td>\n      <td>0</td>\n    </tr>\n    <tr>\n      <th>2564</th>\n      <td>It's always about me me me me with women.</td>\n      <td>7</td>\n    </tr>\n    <tr>\n      <th>2580</th>\n      <td>Imagine having to work with a woman along with...</td>\n      <td>11</td>\n    </tr>\n    <tr>\n      <th>2607</th>\n      <td>Never cross a Russian women, they make crazy A...</td>\n      <td>0</td>\n    </tr>\n    <tr>\n      <th>2656</th>\n      <td>Forgot about the part where it says \"gives wom...</td>\n      <td>0</td>\n    </tr>\n    <tr>\n      <th>2773</th>\n      <td>Women (when they're referred to as women): I'm...</td>\n      <td>0</td>\n    </tr>\n    <tr>\n      <th>2797</th>\n      <td>It doesn't matter what you look like anymore. ...</td>\n      <td>7</td>\n    </tr>\n    <tr>\n      <th>2826</th>\n      <td>Those who are trying to make it big in busines...</td>\n      <td>10</td>\n    </tr>\n    <tr>\n      <th>2871</th>\n      <td>And women still rob men without \"touching\" the...</td>\n      <td>10</td>\n    </tr>\n    <tr>\n      <th>2894</th>\n      <td>Crazy young mothers want attention for themsel...</td>\n      <td>7</td>\n    </tr>\n    <tr>\n      <th>2943</th>\n      <td>so they couldn't be bothered to put in the eff...</td>\n      <td>0</td>\n    </tr>\n    <tr>\n      <th>3205</th>\n      <td>Women have wielded the power of their pussy fr...</td>\n      <td>7</td>\n    </tr>\n    <tr>\n      <th>3219</th>\n      <td>Wow, cheating is so easy and natural for women...</td>\n      <td>7</td>\n    </tr>\n    <tr>\n      <th>3220</th>\n      <td>now women have dating apps to cuck their bf. B...</td>\n      <td>7</td>\n    </tr>\n    <tr>\n      <th>3222</th>\n      <td>Chads had their fun and fucking destroyed her ...</td>\n      <td>5</td>\n    </tr>\n    <tr>\n      <th>3807</th>\n      <td>Yep. A beta no-bucks cuck. Like who cares what...</td>\n      <td>0</td>\n    </tr>\n    <tr>\n      <th>3857</th>\n      <td>Yes, absolutely. I had two jewish girlfriends,...</td>\n      <td>7</td>\n    </tr>\n    <tr>\n      <th>3859</th>\n      <td>Women in the military is a joke. Almost any ma...</td>\n      <td>8</td>\n    </tr>\n    <tr>\n      <th>3876</th>\n      <td>I suspect an ugly woman is the prosecuter. Ugl...</td>\n      <td>0</td>\n    </tr>\n  </tbody>\n</table>\n</div>"
     },
     "execution_count": 246,
     "metadata": {},
     "output_type": "execute_result"
    }
   ],
   "source": [
    "print('Label, number of times 2.1 was confused as the label:')\n",
    "print(hier_predictions[baseline_predictions==3][labels==3][hier_predictions!=3].value_counts())\n",
    "pd.concat([text[baseline_predictions==3][labels==3][hier_predictions!=3],hier_predictions[baseline_predictions==3][labels==3][hier_predictions!=3]], axis=1)"
   ],
   "metadata": {
    "collapsed": false
   }
  },
  {
   "cell_type": "markdown",
   "source": [
    "### Confusions of the hierarchical model - 1.2\n",
    "We observed in the previous code cell that the hierarchical model frequently confuses label 1.2 where baseline gets it right.\n",
    "We take a closer look at those texts:"
   ],
   "metadata": {
    "collapsed": false
   }
  },
  {
   "cell_type": "code",
   "execution_count": 247,
   "outputs": [
    {
     "name": "stdout",
     "output_type": "stream",
     "text": [
      "Label, number of times 1.2 was confused as that label:\n",
      "1    4\n",
      "0    4\n",
      "4    2\n",
      "Name: prediction, dtype: int64\n"
     ]
    },
    {
     "data": {
      "text/plain": "                                                   text  prediction\n115                              You should've hit her.           1\n610   LOL more like the bitch doesn't want to be on ...           4\n914   Can't hit girls though......but.... a c@#t pun...           1\n1227  Yeah the only way a man can satisfy those wome...           1\n1645  I d love to read tomorrow that Susan Collins g...           0\n2026  They need to throw her under the prison, disgu...           0\n2037  What is there to think about? Kill her, kill t...           4\n2794  Dress up as Santa Claus this #Halloween .... I...           0\n2889  What a bloody simp he must had his penis cut o...           1\n3016  GERMANY: Teenage daughter of high-ranking EU o...           0",
      "text/html": "<div>\n<style scoped>\n    .dataframe tbody tr th:only-of-type {\n        vertical-align: middle;\n    }\n\n    .dataframe tbody tr th {\n        vertical-align: top;\n    }\n\n    .dataframe thead th {\n        text-align: right;\n    }\n</style>\n<table border=\"1\" class=\"dataframe\">\n  <thead>\n    <tr style=\"text-align: right;\">\n      <th></th>\n      <th>text</th>\n      <th>prediction</th>\n    </tr>\n  </thead>\n  <tbody>\n    <tr>\n      <th>115</th>\n      <td>You should've hit her.</td>\n      <td>1</td>\n    </tr>\n    <tr>\n      <th>610</th>\n      <td>LOL more like the bitch doesn't want to be on ...</td>\n      <td>4</td>\n    </tr>\n    <tr>\n      <th>914</th>\n      <td>Can't hit girls though......but.... a c@#t pun...</td>\n      <td>1</td>\n    </tr>\n    <tr>\n      <th>1227</th>\n      <td>Yeah the only way a man can satisfy those wome...</td>\n      <td>1</td>\n    </tr>\n    <tr>\n      <th>1645</th>\n      <td>I d love to read tomorrow that Susan Collins g...</td>\n      <td>0</td>\n    </tr>\n    <tr>\n      <th>2026</th>\n      <td>They need to throw her under the prison, disgu...</td>\n      <td>0</td>\n    </tr>\n    <tr>\n      <th>2037</th>\n      <td>What is there to think about? Kill her, kill t...</td>\n      <td>4</td>\n    </tr>\n    <tr>\n      <th>2794</th>\n      <td>Dress up as Santa Claus this #Halloween .... I...</td>\n      <td>0</td>\n    </tr>\n    <tr>\n      <th>2889</th>\n      <td>What a bloody simp he must had his penis cut o...</td>\n      <td>1</td>\n    </tr>\n    <tr>\n      <th>3016</th>\n      <td>GERMANY: Teenage daughter of high-ranking EU o...</td>\n      <td>0</td>\n    </tr>\n  </tbody>\n</table>\n</div>"
     },
     "execution_count": 247,
     "metadata": {},
     "output_type": "execute_result"
    }
   ],
   "source": [
    "print('Label, number of times 1.2 was confused as that label:')\n",
    "print(hier_predictions[baseline_predictions==2][labels==2][hier_predictions!=2].value_counts())\n",
    "pd.concat([text[baseline_predictions==2][labels==2][hier_predictions!=2],hier_predictions[baseline_predictions==2][labels==2][hier_predictions!=2]], axis=1)"
   ],
   "metadata": {
    "collapsed": false
   }
  }
 ],
 "metadata": {
  "kernelspec": {
   "display_name": "Python 3",
   "language": "python",
   "name": "python3"
  },
  "language_info": {
   "codemirror_mode": {
    "name": "ipython",
    "version": 2
   },
   "file_extension": ".py",
   "mimetype": "text/x-python",
   "name": "python",
   "nbconvert_exporter": "python",
   "pygments_lexer": "ipython2",
   "version": "2.7.6"
  }
 },
 "nbformat": 4,
 "nbformat_minor": 0
}
