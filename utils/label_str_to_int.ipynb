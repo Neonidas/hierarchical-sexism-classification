{
 "cells": [
  {
   "cell_type": "code",
   "execution_count": 37,
   "metadata": {
    "collapsed": true
   },
   "outputs": [],
   "source": [
    "import pandas as pd\n",
    "import numpy as np"
   ]
  },
  {
   "cell_type": "code",
   "execution_count": 38,
   "outputs": [
    {
     "data": {
      "text/plain": "   test_case    id   source language  \\\n0  EXIST2021  6978      gab       en   \n1  EXIST2021  6979  twitter       en   \n2  EXIST2021  6980  twitter       en   \n3  EXIST2021  6981  twitter       en   \n4  EXIST2021  6982  twitter       en   \n\n                                                text       task1  \\\n0  Pennsylvania State Rep horrifies with opening ...  non-sexist   \n1  @iilovegrapes He sounds like as ass and very c...  non-sexist   \n2  @averyangryskel1 @4ARealistParty LOL! \"This be...      sexist   \n3  @WanderOrange @stalliontwink Rights?I mean yea...      sexist   \n4  the jack manifold appreciation i’m seeing is o...  non-sexist   \n\n                    task2  \n0              non-sexist  \n1              non-sexist  \n2  ideological-inequality  \n3  ideological-inequality  \n4              non-sexist  ",
      "text/html": "<div>\n<style scoped>\n    .dataframe tbody tr th:only-of-type {\n        vertical-align: middle;\n    }\n\n    .dataframe tbody tr th {\n        vertical-align: top;\n    }\n\n    .dataframe thead th {\n        text-align: right;\n    }\n</style>\n<table border=\"1\" class=\"dataframe\">\n  <thead>\n    <tr style=\"text-align: right;\">\n      <th></th>\n      <th>test_case</th>\n      <th>id</th>\n      <th>source</th>\n      <th>language</th>\n      <th>text</th>\n      <th>task1</th>\n      <th>task2</th>\n    </tr>\n  </thead>\n  <tbody>\n    <tr>\n      <th>0</th>\n      <td>EXIST2021</td>\n      <td>6978</td>\n      <td>gab</td>\n      <td>en</td>\n      <td>Pennsylvania State Rep horrifies with opening ...</td>\n      <td>non-sexist</td>\n      <td>non-sexist</td>\n    </tr>\n    <tr>\n      <th>1</th>\n      <td>EXIST2021</td>\n      <td>6979</td>\n      <td>twitter</td>\n      <td>en</td>\n      <td>@iilovegrapes He sounds like as ass and very c...</td>\n      <td>non-sexist</td>\n      <td>non-sexist</td>\n    </tr>\n    <tr>\n      <th>2</th>\n      <td>EXIST2021</td>\n      <td>6980</td>\n      <td>twitter</td>\n      <td>en</td>\n      <td>@averyangryskel1 @4ARealistParty LOL! \"This be...</td>\n      <td>sexist</td>\n      <td>ideological-inequality</td>\n    </tr>\n    <tr>\n      <th>3</th>\n      <td>EXIST2021</td>\n      <td>6981</td>\n      <td>twitter</td>\n      <td>en</td>\n      <td>@WanderOrange @stalliontwink Rights?I mean yea...</td>\n      <td>sexist</td>\n      <td>ideological-inequality</td>\n    </tr>\n    <tr>\n      <th>4</th>\n      <td>EXIST2021</td>\n      <td>6982</td>\n      <td>twitter</td>\n      <td>en</td>\n      <td>the jack manifold appreciation i’m seeing is o...</td>\n      <td>non-sexist</td>\n      <td>non-sexist</td>\n    </tr>\n  </tbody>\n</table>\n</div>"
     },
     "execution_count": 38,
     "metadata": {},
     "output_type": "execute_result"
    }
   ],
   "source": [
    "path = '../data/edos/train.csv'\n",
    "df = pd.DataFrame(pd.read_csv(path))\n",
    "df.head()"
   ],
   "metadata": {
    "collapsed": false
   }
  },
  {
   "cell_type": "code",
   "execution_count": 39,
   "outputs": [],
   "source": [
    "df.loc[df[\"task1\"] == \"non-sexist\", \"task1\"] = 0\n",
    "df.loc[df[\"task1\"] == \"sexist\", \"task1\"] = 1"
   ],
   "metadata": {
    "collapsed": false
   }
  },
  {
   "cell_type": "code",
   "execution_count": 40,
   "outputs": [
    {
     "data": {
      "text/plain": "array([0, 1], dtype=object)"
     },
     "execution_count": 40,
     "metadata": {},
     "output_type": "execute_result"
    }
   ],
   "source": [
    "df.task1.unique()"
   ],
   "metadata": {
    "collapsed": false
   }
  },
  {
   "cell_type": "code",
   "execution_count": 41,
   "outputs": [
    {
     "data": {
      "text/plain": "array(['non-sexist', 'ideological-inequality', 'objectification',\n       'misogyny-non-sexual-violence', 'stereotyping-dominance',\n       'sexual-violence'], dtype=object)"
     },
     "execution_count": 41,
     "metadata": {},
     "output_type": "execute_result"
    }
   ],
   "source": [
    "df['task2'].unique()"
   ],
   "metadata": {
    "collapsed": false
   }
  },
  {
   "cell_type": "code",
   "execution_count": 42,
   "outputs": [],
   "source": [
    "df.loc[df[\"task2\"] == \"non-sexist\", \"task2\"] = 0"
   ],
   "metadata": {
    "collapsed": false
   }
  },
  {
   "cell_type": "code",
   "execution_count": 43,
   "outputs": [
    {
     "data": {
      "text/plain": "array([0, 'ideological-inequality', 'objectification',\n       'misogyny-non-sexual-violence', 'stereotyping-dominance',\n       'sexual-violence'], dtype=object)"
     },
     "execution_count": 43,
     "metadata": {},
     "output_type": "execute_result"
    }
   ],
   "source": [
    "categories = df.task2.unique()\n",
    "categories"
   ],
   "metadata": {
    "collapsed": false
   }
  },
  {
   "cell_type": "code",
   "execution_count": 44,
   "outputs": [
    {
     "data": {
      "text/plain": "array(['ideological-inequality', 'objectification',\n       'misogyny-non-sexual-violence', 'stereotyping-dominance',\n       'sexual-violence'], dtype=object)"
     },
     "execution_count": 44,
     "metadata": {},
     "output_type": "execute_result"
    }
   ],
   "source": [
    "categories = np.delete(categories,np.argwhere(categories==0))\n",
    "categories"
   ],
   "metadata": {
    "collapsed": false
   }
  },
  {
   "cell_type": "code",
   "execution_count": 45,
   "outputs": [
    {
     "data": {
      "text/plain": "array(['ideological-inequality', 'misogyny-non-sexual-violence',\n       'objectification', 'sexual-violence', 'stereotyping-dominance'],\n      dtype=object)"
     },
     "execution_count": 45,
     "metadata": {},
     "output_type": "execute_result"
    }
   ],
   "source": [
    "categories.sort()\n",
    "categories"
   ],
   "metadata": {
    "collapsed": false
   }
  },
  {
   "cell_type": "code",
   "execution_count": 46,
   "outputs": [],
   "source": [
    "for i in range(0,len(categories)):\n",
    "    df.loc[df[\"task2\"] == categories[i], \"task2\"] = i+1"
   ],
   "metadata": {
    "collapsed": false
   }
  },
  {
   "cell_type": "code",
   "execution_count": 47,
   "outputs": [
    {
     "data": {
      "text/plain": "array([0, 1, 3, 2, 5, 4], dtype=object)"
     },
     "execution_count": 47,
     "metadata": {},
     "output_type": "execute_result"
    }
   ],
   "source": [
    "df.task2.unique()"
   ],
   "metadata": {
    "collapsed": false
   }
  },
  {
   "cell_type": "code",
   "execution_count": 48,
   "outputs": [],
   "source": [
    "path = \"../data/train_int_label.csv\"\n",
    "df.to_csv(path, index=False)"
   ],
   "metadata": {
    "collapsed": false
   }
  }
 ],
 "metadata": {
  "kernelspec": {
   "display_name": "Python 3",
   "language": "python",
   "name": "python3"
  },
  "language_info": {
   "codemirror_mode": {
    "name": "ipython",
    "version": 2
   },
   "file_extension": ".py",
   "mimetype": "text/x-python",
   "name": "python",
   "nbconvert_exporter": "python",
   "pygments_lexer": "ipython2",
   "version": "2.7.6"
  }
 },
 "nbformat": 4,
 "nbformat_minor": 0
}
