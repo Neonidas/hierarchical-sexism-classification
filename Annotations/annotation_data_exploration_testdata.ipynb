{
 "cells": [
  {
   "cell_type": "code",
   "execution_count": 1,
   "metadata": {
    "collapsed": true
   },
   "outputs": [],
   "source": [
    "import pandas as pd\n",
    "from sklearn.metrics import cohen_kappa_score, confusion_matrix, accuracy_score"
   ]
  },
  {
   "cell_type": "code",
   "execution_count": 2,
   "outputs": [
    {
     "data": {
      "text/plain": "                  rewire_id  \\\n0  sexism2022_english-11065   \n1  sexism2022_english-12874   \n2  sexism2022_english-16244   \n3   sexism2022_english-7704   \n4   sexism2022_english-7860   \n\n                                          Unnamed: 1  G_label_sexist  \\\n0  Wtf is that personality test cube shit. I wann...               0   \n1  #Deepstate #Mueller give a #SexTraffic-er an a...               0   \n2  nothing you can do if you're not her type. Mov...               0   \n3  Citizen Donald Trump was simply pointing out t...               1   \n4  She’s def no victim as he didn’t rape her She’...               1   \n\n   G_label_category  G_label_vectors  a_label_sexist  a_label_category  \\\n0                 0              0.0               0                 0   \n1                 0              0.0               0                 0   \n2                 0              0.0               0                 0   \n3                 4              4.1               1                 2   \n4                 4              4.1               0                 0   \n\n   a_label_vectors  b_label_sexist  b_label_category  b_label_vectors  \\\n0              0.0               0                 0              0.0   \n1              0.0               0                 0              0.0   \n2              0.0               0                 0              0.0   \n3              2.3               1                 2              2.1   \n4              0.0               0                 0              0.0   \n\n   c_label_sexist  c_label_category  c_label_vectors  type0_label_sexist  \\\n0               0                 0              0.0                   0   \n1               0                 0              0.0                   0   \n2               0                 0              0.0                   0   \n3               1                 1              1.1                   1   \n4               0                 0              0.0                   1   \n\n   type0_label_category  type0_label_vectors  type1_label_sexist  \\\n0                     0                  0.0                   0   \n1                     0                  0.0                   0   \n2                     0                  0.0                   0   \n3                     2                  2.1                   1   \n4                     4                  4.1                   0   \n\n   type1_label_category  type1_label_vectors  \n0                     0                  0.0  \n1                     0                  0.0  \n2                     0                  0.0  \n3                     2                  2.1  \n4                     0                  0.0  ",
      "text/html": "<div>\n<style scoped>\n    .dataframe tbody tr th:only-of-type {\n        vertical-align: middle;\n    }\n\n    .dataframe tbody tr th {\n        vertical-align: top;\n    }\n\n    .dataframe thead th {\n        text-align: right;\n    }\n</style>\n<table border=\"1\" class=\"dataframe\">\n  <thead>\n    <tr style=\"text-align: right;\">\n      <th></th>\n      <th>rewire_id</th>\n      <th>Unnamed: 1</th>\n      <th>G_label_sexist</th>\n      <th>G_label_category</th>\n      <th>G_label_vectors</th>\n      <th>a_label_sexist</th>\n      <th>a_label_category</th>\n      <th>a_label_vectors</th>\n      <th>b_label_sexist</th>\n      <th>b_label_category</th>\n      <th>b_label_vectors</th>\n      <th>c_label_sexist</th>\n      <th>c_label_category</th>\n      <th>c_label_vectors</th>\n      <th>type0_label_sexist</th>\n      <th>type0_label_category</th>\n      <th>type0_label_vectors</th>\n      <th>type1_label_sexist</th>\n      <th>type1_label_category</th>\n      <th>type1_label_vectors</th>\n    </tr>\n  </thead>\n  <tbody>\n    <tr>\n      <th>0</th>\n      <td>sexism2022_english-11065</td>\n      <td>Wtf is that personality test cube shit. I wann...</td>\n      <td>0</td>\n      <td>0</td>\n      <td>0.0</td>\n      <td>0</td>\n      <td>0</td>\n      <td>0.0</td>\n      <td>0</td>\n      <td>0</td>\n      <td>0.0</td>\n      <td>0</td>\n      <td>0</td>\n      <td>0.0</td>\n      <td>0</td>\n      <td>0</td>\n      <td>0.0</td>\n      <td>0</td>\n      <td>0</td>\n      <td>0.0</td>\n    </tr>\n    <tr>\n      <th>1</th>\n      <td>sexism2022_english-12874</td>\n      <td>#Deepstate #Mueller give a #SexTraffic-er an a...</td>\n      <td>0</td>\n      <td>0</td>\n      <td>0.0</td>\n      <td>0</td>\n      <td>0</td>\n      <td>0.0</td>\n      <td>0</td>\n      <td>0</td>\n      <td>0.0</td>\n      <td>0</td>\n      <td>0</td>\n      <td>0.0</td>\n      <td>0</td>\n      <td>0</td>\n      <td>0.0</td>\n      <td>0</td>\n      <td>0</td>\n      <td>0.0</td>\n    </tr>\n    <tr>\n      <th>2</th>\n      <td>sexism2022_english-16244</td>\n      <td>nothing you can do if you're not her type. Mov...</td>\n      <td>0</td>\n      <td>0</td>\n      <td>0.0</td>\n      <td>0</td>\n      <td>0</td>\n      <td>0.0</td>\n      <td>0</td>\n      <td>0</td>\n      <td>0.0</td>\n      <td>0</td>\n      <td>0</td>\n      <td>0.0</td>\n      <td>0</td>\n      <td>0</td>\n      <td>0.0</td>\n      <td>0</td>\n      <td>0</td>\n      <td>0.0</td>\n    </tr>\n    <tr>\n      <th>3</th>\n      <td>sexism2022_english-7704</td>\n      <td>Citizen Donald Trump was simply pointing out t...</td>\n      <td>1</td>\n      <td>4</td>\n      <td>4.1</td>\n      <td>1</td>\n      <td>2</td>\n      <td>2.3</td>\n      <td>1</td>\n      <td>2</td>\n      <td>2.1</td>\n      <td>1</td>\n      <td>1</td>\n      <td>1.1</td>\n      <td>1</td>\n      <td>2</td>\n      <td>2.1</td>\n      <td>1</td>\n      <td>2</td>\n      <td>2.1</td>\n    </tr>\n    <tr>\n      <th>4</th>\n      <td>sexism2022_english-7860</td>\n      <td>She’s def no victim as he didn’t rape her She’...</td>\n      <td>1</td>\n      <td>4</td>\n      <td>4.1</td>\n      <td>0</td>\n      <td>0</td>\n      <td>0.0</td>\n      <td>0</td>\n      <td>0</td>\n      <td>0.0</td>\n      <td>0</td>\n      <td>0</td>\n      <td>0.0</td>\n      <td>1</td>\n      <td>4</td>\n      <td>4.1</td>\n      <td>0</td>\n      <td>0</td>\n      <td>0.0</td>\n    </tr>\n  </tbody>\n</table>\n</div>"
     },
     "execution_count": 2,
     "metadata": {},
     "output_type": "execute_result"
    }
   ],
   "source": [
    "df = pd.DataFrame(pd.read_csv(\"annotations_test.csv\",sep=\";\"))\n",
    "df.head()"
   ],
   "metadata": {
    "collapsed": false
   }
  },
  {
   "cell_type": "code",
   "execution_count": 3,
   "outputs": [],
   "source": [
    "def rename_vector_labels(column_name):\n",
    "    df.loc[df[column_name] == 0.0, column_name] = \"0.0\"\n",
    "    df.loc[df[column_name] == 1.1, column_name] = \"1.1\"\n",
    "    df.loc[df[column_name] == 1.2, column_name] = \"1.2\"\n",
    "    df.loc[df[column_name] == 2.1, column_name] = \"2.1\"\n",
    "    df.loc[df[column_name] == 2.2, column_name] = \"2.2\"\n",
    "    df.loc[df[column_name] == 2.3, column_name] = \"2.3\"\n",
    "    df.loc[df[column_name] == 3.1, column_name] = \"3.1\"\n",
    "    df.loc[df[column_name] == 3.2, column_name] = \"3.2\"\n",
    "    df.loc[df[column_name] == 3.3, column_name] = \"3.3\"\n",
    "    df.loc[df[column_name] == 3.4, column_name] = \"3.4\"\n",
    "    df.loc[df[column_name] == 4.1, column_name] = \"4.1\"\n",
    "    df.loc[df[column_name] == 4.2, column_name] = \"4.2\""
   ],
   "metadata": {
    "collapsed": false
   }
  },
  {
   "cell_type": "code",
   "execution_count": 4,
   "outputs": [],
   "source": [
    "rename_vector_labels(\"G_label_vectors\")\n",
    "rename_vector_labels(\"a_label_vectors\")\n",
    "rename_vector_labels(\"b_label_vectors\")\n",
    "rename_vector_labels(\"c_label_vectors\")\n",
    "rename_vector_labels(\"type0_label_vectors\")\n",
    "rename_vector_labels(\"type1_label_vectors\")"
   ],
   "metadata": {
    "collapsed": false
   }
  },
  {
   "cell_type": "code",
   "execution_count": 5,
   "outputs": [
    {
     "name": "stdout",
     "output_type": "stream",
     "text": [
      "The kappa scores of person a compared to the golden standard\n",
      "Sexist or not kappa score: 0.37964317051769525\n",
      "High categories of sexism kappa score: 0.3511777301927196\n",
      "Fine-grained categories of sexism kappa score: 0.33986928104575165\n"
     ]
    }
   ],
   "source": [
    "print(\"The kappa scores of person a compared to the golden standard\")\n",
    "a_sexist_kappa = cohen_kappa_score(df.G_label_sexist,df.a_label_sexist)\n",
    "print(f\"Sexist or not kappa score: {a_sexist_kappa}\")\n",
    "a_category_kappa = cohen_kappa_score(df.G_label_category,df.a_label_category)\n",
    "print(f\"High categories of sexism kappa score: {a_category_kappa}\")\n",
    "a_vectors_kappa = cohen_kappa_score(df.G_label_vectors,df.a_label_vectors)\n",
    "print(f\"Fine-grained categories of sexism kappa score: {a_vectors_kappa}\")"
   ],
   "metadata": {
    "collapsed": false
   }
  },
  {
   "cell_type": "code",
   "execution_count": 6,
   "outputs": [
    {
     "name": "stdout",
     "output_type": "stream",
     "text": [
      "The kappa scores of person b compared to the golden standard\n",
      "Sexist or not kappa score: 0.48591788259246693\n",
      "High categories of sexism kappa score: 0.32773375594294774\n",
      "Fine-grained categories of sexism kappa score: 0.3067082683307334\n"
     ]
    }
   ],
   "source": [
    "print(\"The kappa scores of person b compared to the golden standard\")\n",
    "b_sexist_kappa = cohen_kappa_score(df.G_label_sexist,df.b_label_sexist)\n",
    "print(f\"Sexist or not kappa score: {b_sexist_kappa}\")\n",
    "b_category_kappa = cohen_kappa_score(df.G_label_category,df.b_label_category)\n",
    "print(f\"High categories of sexism kappa score: {b_category_kappa}\")\n",
    "b_vectors_kappa = cohen_kappa_score(df.G_label_vectors,df.b_label_vectors)\n",
    "print(f\"Fine-grained categories of sexism kappa score: {b_vectors_kappa}\")"
   ],
   "metadata": {
    "collapsed": false
   }
  },
  {
   "cell_type": "code",
   "execution_count": 7,
   "outputs": [
    {
     "name": "stdout",
     "output_type": "stream",
     "text": [
      "The kappa scores of person c compared to the golden standard\n",
      "Sexist or not kappa score: 0.3205615677098568\n",
      "High categories of sexism kappa score: 0.27473404255319156\n",
      "Fine-grained categories of sexism kappa score: 0.2092901878914405\n"
     ]
    }
   ],
   "source": [
    "print(\"The kappa scores of person c compared to the golden standard\")\n",
    "c_sexist_kappa = cohen_kappa_score(df.G_label_sexist,df.c_label_sexist)\n",
    "print(f\"Sexist or not kappa score: {c_sexist_kappa}\")\n",
    "c_category_kappa = cohen_kappa_score(df.G_label_category,df.c_label_category)\n",
    "print(f\"High categories of sexism kappa score: {c_category_kappa}\")\n",
    "c_vectors_kappa = cohen_kappa_score(df.G_label_vectors,df.c_label_vectors)\n",
    "print(f\"Fine-grained categories of sexism kappa score: {c_vectors_kappa}\")"
   ],
   "metadata": {
    "collapsed": false
   }
  },
  {
   "cell_type": "code",
   "execution_count": 8,
   "outputs": [
    {
     "name": "stdout",
     "output_type": "stream",
     "text": [
      "The kappa scores of type 0 compared to the golden standard\n",
      "Sexist or not kappa score: 0.5003533568904595\n",
      "High categories of sexism kappa score: 0.4491294315082861\n",
      "Fine-grained categories of sexism kappa score: 0.46484613816996134\n"
     ]
    }
   ],
   "source": [
    "print(\"The kappa scores of type 0 compared to the golden standard\")\n",
    "type0_sexist_kappa = cohen_kappa_score(df.G_label_sexist,df.type0_label_sexist)\n",
    "print(f\"Sexist or not kappa score: {type0_sexist_kappa}\")\n",
    "type0_category_kappa = cohen_kappa_score(df.G_label_category,df.type0_label_category)\n",
    "print(f\"High categories of sexism kappa score: {type0_category_kappa}\")\n",
    "type0_vectors_kappa = cohen_kappa_score(df.G_label_vectors,df.type0_label_vectors)\n",
    "print(f\"Fine-grained categories of sexism kappa score: {type0_vectors_kappa}\")"
   ],
   "metadata": {
    "collapsed": false
   }
  },
  {
   "cell_type": "code",
   "execution_count": 9,
   "outputs": [
    {
     "name": "stdout",
     "output_type": "stream",
     "text": [
      "The kappa scores of type 1 compared to the golden standard\n",
      "Sexist or not kappa score: 0.5934445083381253\n",
      "High categories of sexism kappa score: 0.4971174004192872\n",
      "Fine-grained categories of sexism kappa score: 0.5085787451984636\n"
     ]
    }
   ],
   "source": [
    "print(\"The kappa scores of type 1 compared to the golden standard\")\n",
    "type1_sexist_kappa = cohen_kappa_score(df.G_label_sexist,df.type1_label_sexist)\n",
    "print(f\"Sexist or not kappa score: {type1_sexist_kappa}\")\n",
    "type1_category_kappa = cohen_kappa_score(df.G_label_category,df.type1_label_category)\n",
    "print(f\"High categories of sexism kappa score: {type1_category_kappa}\")\n",
    "type1_vectors_kappa = cohen_kappa_score(df.G_label_vectors,df.type1_label_vectors)\n",
    "print(f\"Fine-grained categories of sexism kappa score: {type1_vectors_kappa}\")"
   ],
   "metadata": {
    "collapsed": false
   }
  },
  {
   "cell_type": "code",
   "execution_count": 16,
   "outputs": [
    {
     "name": "stdout",
     "output_type": "stream",
     "text": [
      "The kappa scores of type 1 compared to type0\n",
      "Sexist or not kappa score: 0.6948640483383686\n",
      "High categories of sexism kappa score: 0.6398909395973154\n",
      "Fine-grained categories of sexism kappa score: 0.6159695817490494\n"
     ]
    }
   ],
   "source": [
    "print(\"The kappa scores of type 1 compared to type0\")\n",
    "type1_sexist_kappa = cohen_kappa_score(df.type0_label_sexist,df.type1_label_sexist)\n",
    "print(f\"Sexist or not kappa score: {type1_sexist_kappa}\")\n",
    "type1_category_kappa = cohen_kappa_score(df.type0_label_category,df.type1_label_category)\n",
    "print(f\"High categories of sexism kappa score: {type1_category_kappa}\")\n",
    "type1_vectors_kappa = cohen_kappa_score(df.type0_label_vectors,df.type1_label_vectors)\n",
    "print(f\"Fine-grained categories of sexism kappa score: {type1_vectors_kappa}\")"
   ],
   "metadata": {
    "collapsed": false
   }
  },
  {
   "cell_type": "code",
   "execution_count": 11,
   "outputs": [
    {
     "name": "stdout",
     "output_type": "stream",
     "text": [
      "Sexist average: 0.39537420694000636 \t Category average: 0.3178818428962863 \t  Vectors average: 0.2852892457559752\n"
     ]
    }
   ],
   "source": [
    "avg_sexist_kappa = (a_sexist_kappa+b_sexist_kappa+c_sexist_kappa)/3\n",
    "avg_category_kappa = (a_category_kappa+b_category_kappa+c_category_kappa)/3\n",
    "avg_vectors_kappa = (a_vectors_kappa+b_vectors_kappa+c_vectors_kappa)/3\n",
    "print(f\"Sexist average: {avg_sexist_kappa} \\t Category average: {avg_category_kappa} \\t  Vectors average: {avg_vectors_kappa}\")"
   ],
   "metadata": {
    "collapsed": false
   }
  },
  {
   "cell_type": "code",
   "execution_count": 12,
   "outputs": [
    {
     "name": "stdout",
     "output_type": "stream",
     "text": [
      "Sexist or not accuracies: person a: 0.7920792079207921, person b: 0.8514851485148515, person c: 0.7722772277227723 and the average accuracy: 0.8052805280528054\n",
      "Sexist or not accuracies for models: \n",
      "type0: 0.7920792079207921 \n",
      "type1: 0.8613861386138614\n"
     ]
    }
   ],
   "source": [
    "#Accuracy sexist\n",
    "a_sexist_accuracy = accuracy_score(df.G_label_sexist, df.a_label_sexist)\n",
    "b_sexist_accuracy = accuracy_score(df.G_label_sexist, df.b_label_sexist)\n",
    "c_sexist_accuracy = accuracy_score(df.G_label_sexist, df.c_label_sexist)\n",
    "type0_sexist_accuracy = accuracy_score(df.G_label_sexist, df.type0_label_sexist)\n",
    "type1_sexist_accuracy = accuracy_score(df.G_label_sexist, df.type1_label_sexist)\n",
    "avg_sexist_accuracy = (a_sexist_accuracy+b_sexist_accuracy+c_sexist_accuracy)/3\n",
    "print(f\"Sexist or not accuracies: person a: {a_sexist_accuracy}, person b: {b_sexist_accuracy}, person c: {c_sexist_accuracy} and the average accuracy: {avg_sexist_accuracy}\")\n",
    "print(f'Sexist or not accuracies for models: \\ntype0: {type0_sexist_accuracy} \\ntype1: {type1_sexist_accuracy}')"
   ],
   "metadata": {
    "collapsed": false
   }
  },
  {
   "cell_type": "code",
   "execution_count": 13,
   "outputs": [
    {
     "name": "stdout",
     "output_type": "stream",
     "text": [
      "Category accuracies: person a: 0.7623762376237624, person b: 0.7920792079207921, person c: 0.7326732673267327 and the average accuracy: 0.7623762376237625\n",
      "Category accuracies for models: \n",
      "type0: 0.7425742574257426 \n",
      "type1: 0.8118811881188119\n"
     ]
    }
   ],
   "source": [
    "#Accuracy category\n",
    "a_category_accuracy = accuracy_score(df.G_label_category, df.a_label_category)\n",
    "b_category_accuracy = accuracy_score(df.G_label_category, df.b_label_category)\n",
    "c_category_accuracy = accuracy_score(df.G_label_category, df.c_label_category)\n",
    "type0_category_accuracy = accuracy_score(df.G_label_category, df.type0_label_category)\n",
    "type1_category_accuracy = accuracy_score(df.G_label_category, df.type1_label_category)\n",
    "avg_category_accuracy = (a_category_accuracy+b_category_accuracy+c_category_accuracy)/3\n",
    "print(f\"Category accuracies: person a: {a_category_accuracy}, person b: {b_category_accuracy}, person c: {c_category_accuracy} and the average accuracy: {avg_category_accuracy}\")\n",
    "print(f'Category accuracies for models: \\ntype0: {type0_category_accuracy} \\ntype1: {type1_category_accuracy}')"
   ],
   "metadata": {
    "collapsed": false
   }
  },
  {
   "cell_type": "code",
   "execution_count": 14,
   "outputs": [
    {
     "name": "stdout",
     "output_type": "stream",
     "text": [
      "Vectors accuracies: person a: 0.7524752475247525, person b: 0.7821782178217822, person c: 0.7029702970297029 and the average accuracy: 0.7458745874587459\n",
      "Vectors accuracies for models: \n",
      "type0: 0.7425742574257426 \n",
      "type1: 0.8118811881188119\n"
     ]
    }
   ],
   "source": [
    "#Accuracy vectors\n",
    "a_vectors_accuracy = accuracy_score(df.G_label_vectors, df.a_label_vectors)\n",
    "b_vectors_accuracy = accuracy_score(df.G_label_vectors, df.b_label_vectors)\n",
    "c_vectors_accuracy = accuracy_score(df.G_label_vectors, df.c_label_vectors)\n",
    "type0_vectors_accuracy = accuracy_score(df.G_label_vectors, df.type0_label_vectors)\n",
    "type1_vectors_accuracy = accuracy_score(df.G_label_vectors, df.type1_label_vectors)\n",
    "avg_vectors_accuracy = (a_vectors_accuracy+b_vectors_accuracy+c_vectors_accuracy)/3\n",
    "print(f\"Vectors accuracies: person a: {a_vectors_accuracy}, person b: {b_vectors_accuracy}, person c: {c_vectors_accuracy} and the average accuracy: {avg_vectors_accuracy}\")\n",
    "print(f'Vectors accuracies for models: \\ntype0: {type0_vectors_accuracy} \\ntype1: {type1_vectors_accuracy}')"
   ],
   "metadata": {
    "collapsed": false
   }
  },
  {
   "cell_type": "code",
   "execution_count": 15,
   "outputs": [
    {
     "data": {
      "text/plain": "0    80\n1    21\nName: G_label_sexist, dtype: int64"
     },
     "execution_count": 15,
     "metadata": {},
     "output_type": "execute_result"
    }
   ],
   "source": [
    "df.G_label_sexist.value_counts()"
   ],
   "metadata": {
    "collapsed": false
   }
  },
  {
   "cell_type": "code",
   "execution_count": 17,
   "outputs": [],
   "source": [
    "label_preds_t0 = pd.read_csv(\"../label_preds/label_pred_baseline.csv\")\n",
    "label_preds_t1 = pd.read_csv(\"../label_preds/label_pred_singleMLM.csv\")\n",
    "test = pd.read_csv(\"../data/test_int_label.csv\")\n",
    "text = test.text"
   ],
   "metadata": {
    "collapsed": false
   }
  },
  {
   "cell_type": "code",
   "execution_count": 18,
   "outputs": [
    {
     "name": "stdout",
     "output_type": "stream",
     "text": [
      "The kappa scores of type 1 compared to gold\n"
     ]
    },
    {
     "data": {
      "text/plain": "0.5010642345546128"
     },
     "execution_count": 18,
     "metadata": {},
     "output_type": "execute_result"
    }
   ],
   "source": [
    "print(\"The kappa scores of type 1 compared to gold\")\n",
    "cohen_kappa_score(test.label_vector,label_preds_t1.prediction)"
   ],
   "metadata": {
    "collapsed": false
   }
  },
  {
   "cell_type": "code",
   "execution_count": 19,
   "outputs": [
    {
     "name": "stdout",
     "output_type": "stream",
     "text": [
      "The kappa scores of type 0 compared to gold\n"
     ]
    },
    {
     "data": {
      "text/plain": "0.4259507072315588"
     },
     "execution_count": 19,
     "metadata": {},
     "output_type": "execute_result"
    }
   ],
   "source": [
    "print(\"The kappa scores of type 0 compared to gold\")\n",
    "cohen_kappa_score(test.label_vector,label_preds_t0.prediction)"
   ],
   "metadata": {
    "collapsed": false
   }
  },
  {
   "cell_type": "code",
   "execution_count": 20,
   "outputs": [
    {
     "name": "stdout",
     "output_type": "stream",
     "text": [
      "The kappa scores of type 1 compared to type0\n"
     ]
    },
    {
     "data": {
      "text/plain": "0.5837274093036924"
     },
     "execution_count": 20,
     "metadata": {},
     "output_type": "execute_result"
    }
   ],
   "source": [
    "print(\"The kappa scores of type 1 compared to type0\")\n",
    "cohen_kappa_score(label_preds_t0.prediction,label_preds_t1.prediction)"
   ],
   "metadata": {
    "collapsed": false
   }
  },
  {
   "cell_type": "code",
   "execution_count": 23,
   "outputs": [],
   "source": [
    "def avg_kappa_scores(labels_a, labels_b, labels_c, labels_comparing2):\n",
    "    a_kappa = cohen_kappa_score(labels_comparing2, labels_a)\n",
    "    b_kappa = cohen_kappa_score(labels_comparing2,labels_b)\n",
    "    c_kappa = cohen_kappa_score(labels_comparing2, labels_c)\n",
    "    avg_kappa = (a_kappa + b_kappa + c_kappa)/3\n",
    "    print(avg_kappa)"
   ],
   "metadata": {
    "collapsed": false
   }
  },
  {
   "cell_type": "code",
   "execution_count": 24,
   "outputs": [
    {
     "name": "stdout",
     "output_type": "stream",
     "text": [
      "0.2852892457559752\n"
     ]
    }
   ],
   "source": [
    "avg_kappa_scores(df.a_label_vectors, df.b_label_vectors, df.c_label_vectors, df.G_label_vectors)"
   ],
   "metadata": {
    "collapsed": false
   }
  },
  {
   "cell_type": "code",
   "execution_count": 25,
   "outputs": [
    {
     "name": "stdout",
     "output_type": "stream",
     "text": [
      "0.2319109058683709\n"
     ]
    }
   ],
   "source": [
    "avg_kappa_scores(df.a_label_vectors, df.b_label_vectors, df.c_label_vectors, df.type0_label_vectors)"
   ],
   "metadata": {
    "collapsed": false
   }
  },
  {
   "cell_type": "code",
   "execution_count": 26,
   "outputs": [
    {
     "name": "stdout",
     "output_type": "stream",
     "text": [
      "0.3201321230343096\n"
     ]
    }
   ],
   "source": [
    "avg_kappa_scores(df.a_label_vectors, df.b_label_vectors, df.c_label_vectors, df.type1_label_vectors)"
   ],
   "metadata": {
    "collapsed": false
   }
  }
 ],
 "metadata": {
  "kernelspec": {
   "display_name": "Python 3",
   "language": "python",
   "name": "python3"
  },
  "language_info": {
   "codemirror_mode": {
    "name": "ipython",
    "version": 2
   },
   "file_extension": ".py",
   "mimetype": "text/x-python",
   "name": "python",
   "nbconvert_exporter": "python",
   "pygments_lexer": "ipython2",
   "version": "2.7.6"
  }
 },
 "nbformat": 4,
 "nbformat_minor": 0
}
