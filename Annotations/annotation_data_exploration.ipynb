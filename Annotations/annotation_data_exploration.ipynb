{
 "cells": [
  {
   "cell_type": "code",
   "execution_count": 2,
   "metadata": {
    "collapsed": true
   },
   "outputs": [],
   "source": [
    "import pandas as pd\n",
    "from sklearn.metrics import cohen_kappa_score, confusion_matrix, accuracy_score"
   ]
  },
  {
   "cell_type": "code",
   "execution_count": 3,
   "outputs": [
    {
     "data": {
      "text/plain": "                  rewire_id  \\\n0   sexism2022_english-3492   \n1   sexism2022_english-5893   \n2   sexism2022_english-9043   \n3  sexism2022_english-19738   \n4  sexism2022_english-16189   \n\n                                                text  G_label_sexist  \\\n0  Yup yup. As a woman looking for a male fwb, th...               0   \n1  If she focuses on it too much she may dwell an...               0   \n2  Sott.net calls her #Killary for a reason... [U...               0   \n3  Later, while being identified at the morgue hi...               0   \n4  good for you, personally that inner warm and f...               1   \n\n   G_label_category  G_label_vectors  a_label_sexist  a_label_category  \\\n0                 0              0.0               0                 0   \n1                 0              0.0               0                 0   \n2                 0              0.0               0                 0   \n3                 0              0.0               0                 0   \n4                 2              2.2               1                 3   \n\n   a_label_vectors  b_label_sexist  b_label_category  b_label_vectors  \\\n0              0.0               0                 0              0.0   \n1              0.0               0                 0              0.0   \n2              0.0               0                 0              0.0   \n3              0.0               0                 0              0.0   \n4              3.1               0                 0              0.0   \n\n   c_label_sexist  c_label_category  c_label_vectors  \n0               0                 0              0.0  \n1               0                 0              0.0  \n2               0                 0              0.0  \n3               0                 0              0.0  \n4               0                 0              0.0  ",
      "text/html": "<div>\n<style scoped>\n    .dataframe tbody tr th:only-of-type {\n        vertical-align: middle;\n    }\n\n    .dataframe tbody tr th {\n        vertical-align: top;\n    }\n\n    .dataframe thead th {\n        text-align: right;\n    }\n</style>\n<table border=\"1\" class=\"dataframe\">\n  <thead>\n    <tr style=\"text-align: right;\">\n      <th></th>\n      <th>rewire_id</th>\n      <th>text</th>\n      <th>G_label_sexist</th>\n      <th>G_label_category</th>\n      <th>G_label_vectors</th>\n      <th>a_label_sexist</th>\n      <th>a_label_category</th>\n      <th>a_label_vectors</th>\n      <th>b_label_sexist</th>\n      <th>b_label_category</th>\n      <th>b_label_vectors</th>\n      <th>c_label_sexist</th>\n      <th>c_label_category</th>\n      <th>c_label_vectors</th>\n    </tr>\n  </thead>\n  <tbody>\n    <tr>\n      <th>0</th>\n      <td>sexism2022_english-3492</td>\n      <td>Yup yup. As a woman looking for a male fwb, th...</td>\n      <td>0</td>\n      <td>0</td>\n      <td>0.0</td>\n      <td>0</td>\n      <td>0</td>\n      <td>0.0</td>\n      <td>0</td>\n      <td>0</td>\n      <td>0.0</td>\n      <td>0</td>\n      <td>0</td>\n      <td>0.0</td>\n    </tr>\n    <tr>\n      <th>1</th>\n      <td>sexism2022_english-5893</td>\n      <td>If she focuses on it too much she may dwell an...</td>\n      <td>0</td>\n      <td>0</td>\n      <td>0.0</td>\n      <td>0</td>\n      <td>0</td>\n      <td>0.0</td>\n      <td>0</td>\n      <td>0</td>\n      <td>0.0</td>\n      <td>0</td>\n      <td>0</td>\n      <td>0.0</td>\n    </tr>\n    <tr>\n      <th>2</th>\n      <td>sexism2022_english-9043</td>\n      <td>Sott.net calls her #Killary for a reason... [U...</td>\n      <td>0</td>\n      <td>0</td>\n      <td>0.0</td>\n      <td>0</td>\n      <td>0</td>\n      <td>0.0</td>\n      <td>0</td>\n      <td>0</td>\n      <td>0.0</td>\n      <td>0</td>\n      <td>0</td>\n      <td>0.0</td>\n    </tr>\n    <tr>\n      <th>3</th>\n      <td>sexism2022_english-19738</td>\n      <td>Later, while being identified at the morgue hi...</td>\n      <td>0</td>\n      <td>0</td>\n      <td>0.0</td>\n      <td>0</td>\n      <td>0</td>\n      <td>0.0</td>\n      <td>0</td>\n      <td>0</td>\n      <td>0.0</td>\n      <td>0</td>\n      <td>0</td>\n      <td>0.0</td>\n    </tr>\n    <tr>\n      <th>4</th>\n      <td>sexism2022_english-16189</td>\n      <td>good for you, personally that inner warm and f...</td>\n      <td>1</td>\n      <td>2</td>\n      <td>2.2</td>\n      <td>1</td>\n      <td>3</td>\n      <td>3.1</td>\n      <td>0</td>\n      <td>0</td>\n      <td>0.0</td>\n      <td>0</td>\n      <td>0</td>\n      <td>0.0</td>\n    </tr>\n  </tbody>\n</table>\n</div>"
     },
     "execution_count": 3,
     "metadata": {},
     "output_type": "execute_result"
    }
   ],
   "source": [
    "df = pd.DataFrame(pd.read_csv(\"annotation_training.csv\",sep=\",\"))\n",
    "df.head()"
   ],
   "metadata": {
    "collapsed": false
   }
  },
  {
   "cell_type": "code",
   "execution_count": 4,
   "outputs": [],
   "source": [
    "def rename_vector_labels(column_name):\n",
    "    df.loc[df[column_name] == 0.0, column_name] = \"0.0\"\n",
    "    df.loc[df[column_name] == 1.1, column_name] = \"1.1\"\n",
    "    df.loc[df[column_name] == 1.2, column_name] = \"1.2\"\n",
    "    df.loc[df[column_name] == 2.1, column_name] = \"2.1\"\n",
    "    df.loc[df[column_name] == 2.2, column_name] = \"2.2\"\n",
    "    df.loc[df[column_name] == 2.3, column_name] = \"2.3\"\n",
    "    df.loc[df[column_name] == 3.1, column_name] = \"3.1\"\n",
    "    df.loc[df[column_name] == 3.2, column_name] = \"3.2\"\n",
    "    df.loc[df[column_name] == 3.3, column_name] = \"3.3\"\n",
    "    df.loc[df[column_name] == 3.4, column_name] = \"3.4\"\n",
    "    df.loc[df[column_name] == 4.1, column_name] = \"4.1\"\n",
    "    df.loc[df[column_name] == 4.2, column_name] = \"4.2\""
   ],
   "metadata": {
    "collapsed": false
   }
  },
  {
   "cell_type": "code",
   "execution_count": 5,
   "outputs": [],
   "source": [
    "rename_vector_labels(\"G_label_vectors\")\n",
    "rename_vector_labels(\"a_label_vectors\")\n",
    "rename_vector_labels(\"b_label_vectors\")\n",
    "rename_vector_labels(\"c_label_vectors\")"
   ],
   "metadata": {
    "collapsed": false
   }
  },
  {
   "cell_type": "code",
   "execution_count": 6,
   "outputs": [
    {
     "name": "stdout",
     "output_type": "stream",
     "text": [
      "The kappa scores of person a compared to the golden standard\n",
      "Sexist or not kappa score: 0.75293542074364\n",
      "High categories of sexism kappa score: 0.5380091483336964\n",
      "Fine-grained categories of sexism kappa score: 0.5346596858638744\n"
     ]
    }
   ],
   "source": [
    "print(\"The kappa scores of person a compared to the golden standard\")\n",
    "a_sexist_kappa = cohen_kappa_score(df.G_label_sexist,df.a_label_sexist)\n",
    "print(f\"Sexist or not kappa score: {a_sexist_kappa}\")\n",
    "a_category_kappa = cohen_kappa_score(df.G_label_category,df.a_label_category)\n",
    "print(f\"High categories of sexism kappa score: {a_category_kappa}\")\n",
    "a_vectors_kappa = cohen_kappa_score(df.G_label_vectors,df.a_label_vectors)\n",
    "print(f\"Fine-grained categories of sexism kappa score: {a_vectors_kappa}\")"
   ],
   "metadata": {
    "collapsed": false
   }
  },
  {
   "cell_type": "code",
   "execution_count": 7,
   "outputs": [
    {
     "name": "stdout",
     "output_type": "stream",
     "text": [
      "The kappa scores of person b compared to the golden standard\n",
      "Sexist or not kappa score: 0.7582575394925801\n",
      "High categories of sexism kappa score: 0.48127541194093726\n",
      "Fine-grained categories of sexism kappa score: 0.39545923632610946\n"
     ]
    }
   ],
   "source": [
    "print(\"The kappa scores of person b compared to the golden standard\")\n",
    "b_sexist_kappa = cohen_kappa_score(df.G_label_sexist,df.b_label_sexist)\n",
    "print(f\"Sexist or not kappa score: {b_sexist_kappa}\")\n",
    "b_category_kappa = cohen_kappa_score(df.G_label_category,df.b_label_category)\n",
    "print(f\"High categories of sexism kappa score: {b_category_kappa}\")\n",
    "b_vectors_kappa = cohen_kappa_score(df.G_label_vectors,df.b_label_vectors)\n",
    "print(f\"Fine-grained categories of sexism kappa score: {b_vectors_kappa}\")"
   ],
   "metadata": {
    "collapsed": false
   }
  },
  {
   "cell_type": "code",
   "execution_count": 8,
   "outputs": [
    {
     "name": "stdout",
     "output_type": "stream",
     "text": [
      "The kappa scores of person c compared to the golden standard\n",
      "Sexist or not kappa score: 0.6694305040366573\n",
      "High categories of sexism kappa score: 0.41574920694159356\n",
      "Fine-grained categories of sexism kappa score: 0.4207885304659499\n"
     ]
    }
   ],
   "source": [
    "print(\"The kappa scores of person c compared to the golden standard\")\n",
    "c_sexist_kappa = cohen_kappa_score(df.G_label_sexist,df.c_label_sexist)\n",
    "print(f\"Sexist or not kappa score: {c_sexist_kappa}\")\n",
    "c_category_kappa = cohen_kappa_score(df.G_label_category,df.c_label_category)\n",
    "print(f\"High categories of sexism kappa score: {c_category_kappa}\")\n",
    "c_vectors_kappa = cohen_kappa_score(df.G_label_vectors,df.c_label_vectors)\n",
    "print(f\"Fine-grained categories of sexism kappa score: {c_vectors_kappa}\")"
   ],
   "metadata": {
    "collapsed": false
   }
  },
  {
   "cell_type": "code",
   "execution_count": 13,
   "outputs": [
    {
     "name": "stdout",
     "output_type": "stream",
     "text": [
      "Sexist average: 0.7268744880909592 \t Category average: 0.4783445890720757 \t  Vectors average: 0.45030248421864455\n"
     ]
    }
   ],
   "source": [
    "avg_sexist_kappa = (a_sexist_kappa+b_sexist_kappa+c_sexist_kappa)/3\n",
    "avg_category_kappa = (a_category_kappa+b_category_kappa+c_category_kappa)/3\n",
    "avg_vectors_kappa = (a_vectors_kappa+b_vectors_kappa+c_vectors_kappa)/3\n",
    "print(f\"Sexist average: {avg_sexist_kappa} \\t Category average: {avg_category_kappa} \\t  Vectors average: {avg_vectors_kappa}\")"
   ],
   "metadata": {
    "collapsed": false
   }
  },
  {
   "cell_type": "code",
   "execution_count": 9,
   "outputs": [
    {
     "name": "stdout",
     "output_type": "stream",
     "text": [
      "Sexist or not accuracies: person a: 0.900990099009901, person b: 0.900990099009901, person c: 0.8514851485148515 and the average accuracy: 0.8844884488448845\n"
     ]
    }
   ],
   "source": [
    "#Accuracy sexist\n",
    "a_sexist_accuracy = accuracy_score(df.G_label_sexist, df.a_label_sexist)\n",
    "b_sexist_accuracy = accuracy_score(df.G_label_sexist, df.b_label_sexist)\n",
    "c_sexist_accuracy = accuracy_score(df.G_label_sexist, df.c_label_sexist)\n",
    "avg_sexist_accuracy = (a_sexist_accuracy+b_sexist_accuracy+c_sexist_accuracy)/3\n",
    "print(f\"Sexist or not accuracies: person a: {a_sexist_accuracy}, person b: {b_sexist_accuracy}, person c: {c_sexist_accuracy} and the average accuracy: {avg_sexist_accuracy}\")"
   ],
   "metadata": {
    "collapsed": false
   }
  },
  {
   "cell_type": "code",
   "execution_count": 10,
   "outputs": [
    {
     "name": "stdout",
     "output_type": "stream",
     "text": [
      "Category accuracies: person a: 0.7920792079207921, person b: 0.7623762376237624, person c: 0.693069306930693 and the average accuracy: 0.7491749174917492\n"
     ]
    }
   ],
   "source": [
    "#Accuracy category\n",
    "a_category_accuracy = accuracy_score(df.G_label_category, df.a_label_category)\n",
    "b_category_accuracy = accuracy_score(df.G_label_category, df.b_label_category)\n",
    "c_category_accuracy = accuracy_score(df.G_label_category, df.c_label_category)\n",
    "avg_category_accuracy = (a_category_accuracy+b_category_accuracy+c_category_accuracy)/3\n",
    "print(f\"Category accuracies: person a: {a_category_accuracy}, person b: {b_category_accuracy}, person c: {c_category_accuracy} and the average accuracy: {avg_category_accuracy}\")"
   ],
   "metadata": {
    "collapsed": false
   }
  },
  {
   "cell_type": "code",
   "execution_count": 11,
   "outputs": [
    {
     "name": "stdout",
     "output_type": "stream",
     "text": [
      "Vectors accuracies: person a: 0.7821782178217822, person b: 0.7128712871287128, person c: 0.6831683168316832 and the average accuracy: 0.7260726072607261\n"
     ]
    }
   ],
   "source": [
    "#Accuracy vectors\n",
    "a_vectors_accuracy = accuracy_score(df.G_label_vectors, df.a_label_vectors)\n",
    "b_vectors_accuracy = accuracy_score(df.G_label_vectors, df.b_label_vectors)\n",
    "c_vectors_accuracy = accuracy_score(df.G_label_vectors, df.c_label_vectors)\n",
    "avg_vectors_accuracy = (a_vectors_accuracy+b_vectors_accuracy+c_vectors_accuracy)/3\n",
    "print(f\"Vectors accuracies: person a: {a_vectors_accuracy}, person b: {b_vectors_accuracy}, person c: {c_vectors_accuracy} and the average accuracy: {avg_vectors_accuracy}\")"
   ],
   "metadata": {
    "collapsed": false
   }
  },
  {
   "cell_type": "code",
   "execution_count": 12,
   "outputs": [
    {
     "data": {
      "text/plain": "0    73\n1    28\nName: G_label_sexist, dtype: int64"
     },
     "execution_count": 12,
     "metadata": {},
     "output_type": "execute_result"
    }
   ],
   "source": [
    "df.G_label_sexist.value_counts()"
   ],
   "metadata": {
    "collapsed": false
   }
  }
 ],
 "metadata": {
  "kernelspec": {
   "display_name": "Python 3",
   "language": "python",
   "name": "python3"
  },
  "language_info": {
   "codemirror_mode": {
    "name": "ipython",
    "version": 2
   },
   "file_extension": ".py",
   "mimetype": "text/x-python",
   "name": "python",
   "nbconvert_exporter": "python",
   "pygments_lexer": "ipython2",
   "version": "2.7.6"
  }
 },
 "nbformat": 4,
 "nbformat_minor": 0
}
